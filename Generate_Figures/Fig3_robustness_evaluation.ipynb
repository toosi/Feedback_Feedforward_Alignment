{
 "cells": [
  {
   "cell_type": "code",
   "execution_count": 4,
   "metadata": {
    "ExecuteTime": {
     "end_time": "2023-05-12T20:18:23.864806Z",
     "start_time": "2023-05-12T20:18:23.742480Z"
    }
   },
   "outputs": [],
   "source": [
    "import torch\n",
    "import torchsummary\n",
    "from torchsummary import summary\n",
    "from torchvision import models\n",
    "\n",
    "import copy\n",
    "import numpy as np\n",
    "import pandas as pd\n",
    "import matplotlib.pylab as plt\n",
    "%matplotlib inline\n",
    "# %load_ext autoreload\n",
    "# %autoreload 2\n",
    "import os\n",
    "import yaml\n",
    "import json\n",
    "\n",
    "from utils.helper_functions import *\n",
    "\n",
    "import pylab\n",
    "# pylab.rc('font', family='serif', size=14)\n",
    "\n",
    "import socket\n",
    "if socket.gethostname()[0:4] in  ['node','holm','wats']:\n",
    "    path_prefix = '/rigel/issa/users/Tahereh/Research'\n",
    "elif socket.gethostname() == 'SYNPAI':\n",
    "    path_prefix = '/hdd6gig/Documents/Research'\n",
    "elif socket.gethostname()[0:2] == 'ax':\n",
    "    path_prefix = '/home/tt2684/Research'\n",
    "\n",
    "resultsdir = path_prefix + '/Results/Symbio/Symbio/'\n",
    "\n",
    "savefigsdir = path_prefix + '/Results/FFA_Symbio2023'\n",
    "\n",
    "selected_config_keys = ['archd', 'arche','batch_size','patienced', 'patiencee','wdB', \n",
    "                        'wdF' ,'optimizerB', 'optimizerF','dataset',\n",
    "'lrB', 'lrF', 'momentumB', 'momentumF','base_channels','epochs','runname']"
   ]
  },
  {
   "cell_type": "code",
   "execution_count": 10,
   "metadata": {
    "ExecuteTime": {
     "end_time": "2023-05-12T20:20:01.095096Z",
     "start_time": "2023-05-12T20:20:01.088997Z"
    }
   },
   "outputs": [],
   "source": [
    "from utils.helper_functions import *\n",
    "\n",
    "figsavedir = '/home/tt2684/Research/Results/FFA_Symbio2023/Figures/Fig3_Robustness_Evals/'\n"
   ]
  },
  {
   "cell_type": "code",
   "execution_count": 9,
   "metadata": {
    "ExecuteTime": {
     "end_time": "2023-05-12T20:19:59.556717Z",
     "start_time": "2023-05-12T20:19:59.548206Z"
    }
   },
   "outputs": [],
   "source": [
    "alpha = 0.4\n",
    "colors = {'FA':'mediumseagreen', 'BP':'k', 'SLVanilla':'indianred'}\n",
    "method_labels = {'FA':'FA', 'BP':'BP', 'SLVanilla':'FFA'}\n",
    "linestyles = {'FA':'-', 'BP':'-', 'SLVanilla':'-'}"
   ]
  },
  {
   "cell_type": "markdown",
   "metadata": {},
   "source": [
    "## Evaluations"
   ]
  },
  {
   "cell_type": "code",
   "execution_count": null,
   "metadata": {},
   "outputs": [],
   "source": [
    "## "
   ]
  },
  {
   "cell_type": "code",
   "execution_count": 52,
   "metadata": {
    "ExecuteTime": {
     "end_time": "2023-05-12T21:52:07.059980Z",
     "start_time": "2023-05-12T21:52:07.027017Z"
    }
   },
   "outputs": [],
   "source": [
    "import json\n",
    "import pandas as pd\n",
    "\n",
    "measure_name = 'correlation' #'correlation' #'accuracy'\n",
    "\n",
    "    \n",
    "if measure_name == 'accuracy':\n",
    "    measure_key = 'Test_acce'\n",
    "elif measure_name == 'correlation':\n",
    "    measure_key = 'Test_corrd'\n",
    "\n",
    "methods = ['SLVanilla','BP', 'FA']\n",
    "\n",
    "# if 'AsymResLNet' in hashname:\n",
    "#     markers = {'FA':'o', 'BP':'o', 'SLVanilla':'o'}\n",
    "# elif 'FullyConn' in hashname:\n",
    "#     markers = {'FA':'s', 'BP':'s', 'SLVanilla':'s'}\n",
    "\n",
    "facecolors = {'FA':'none', 'BP':'k', 'SLVanilla':'red'}\n",
    "\n",
    "\n",
    "def get_df_evaluate(runname,measure_name, master_df,master_df_autoencoder,master_df_autoencodertwocosts):\n",
    "    \n",
    "    assert os.path.exists(resultsdir + '%s/evaluate/'%runname), 'no eval for runname %s'%runname\n",
    "    if measure_name == 'accuracy':\n",
    "        measure_key = 'Test_acce'\n",
    "    elif measure_name == 'correlation':\n",
    "        measure_key = 'Test_corrd'\n",
    "    \n",
    "    \n",
    "    print(runname)\n",
    "    df = pd.DataFrame()\n",
    "    df_autoencoder = pd.DataFrame()\n",
    "    df_autoencoder_tc = pd.DataFrame()\n",
    "    df_dynamic = pd.DataFrame()\n",
    "    list_files = getListOfFiles(resultsdir + '%s/evaluate/'%runname)\n",
    "    list_files = [l for l in list_files if '.json' in l]\n",
    "\n",
    "    for l in list_files:\n",
    "\n",
    "        fname = l.split('evaluate/')[1]\n",
    "\n",
    "\n",
    "        with open(l, \"r\") as jfile:\n",
    "            try:\n",
    "                d = json.load(jfile)\n",
    "            except UnicodeDecodeError:\n",
    "                print(l)\n",
    "                d = json.load(jfile)\n",
    "\n",
    "        if ('autoencoder' not in l) and ('dynamicdecoder' not in l):\n",
    "\n",
    "            df2 = pd.DataFrame({'method': d['method'],\n",
    "                     'epsilon':[d['eval_epsilon']],\n",
    "                     'sigma2':[d['eval_sigma2']],\n",
    "                     'itr0': [d[measure_key][0]],\n",
    "                     'itr1': [d[measure_key][1]],\n",
    "                     'itr2': [d[measure_key][2]],\n",
    "                     'itr3': [d[measure_key][3]]})\n",
    "            df = df.append(df2, ignore_index=True)\n",
    "        elif 'autoencoder_staticdecoder' in l:\n",
    "            df2_autoencoder = pd.DataFrame({'method': d['method'],\n",
    "                     'epsilon':[d['eval_epsilon']],\n",
    "                     'sigma2':[d['eval_sigma2']],\n",
    "                     'itr0': [d[measure_key][0]],\n",
    "                     'itr1': [d[measure_key][1]],\n",
    "                     'itr2': [d[measure_key][2]],\n",
    "                     'itr3': [d[measure_key][3]]})\n",
    "            df_autoencoder = df_autoencoder.append(df2_autoencoder, ignore_index=True)\n",
    "\n",
    "        elif 'autoencoder_twocosts_staticdecoder' in l:\n",
    "            df2_autoencoder_tc = pd.DataFrame({'method': d['method'],\n",
    "                     'epsilon':[d['eval_epsilon']],\n",
    "                     'sigma2':[d['eval_sigma2']],\n",
    "                     'itr0': [d[measure_key][0]],\n",
    "                     'itr1': [d[measure_key][1]],\n",
    "                     'itr2': [d[measure_key][2]],\n",
    "                     'itr3': [d[measure_key][3]]})\n",
    "            df_autoencoder_tc = df_autoencoder_tc.append(df2_autoencoder_tc, ignore_index=True)\n",
    "\n",
    "#             elif 'dynamicdecoder' in l:\n",
    "\n",
    "#                 df2_dynamic = pd.DataFrame({'method': d['method'],\n",
    "#                          'epsilon':[d['eval_epsilon']],\n",
    "#                          'sigma2':[d['eval_sigma2']],\n",
    "#                          'itr0': [d[measure_key][0]],\n",
    "#                          'itr1': [d[measure_key][1]],\n",
    "#                          'itr2': [d[measure_key][2]],\n",
    "#                          'itr3': [d[measure_key][3]]})\n",
    "#                 df_dynamic = df_dynamic.append(df2_dynamic, ignore_index=True)\n",
    "    #if df is not empty\n",
    "\n",
    "    return df, df_autoencoder, df_autoencoder_tc"
   ]
  },
  {
   "cell_type": "markdown",
   "metadata": {},
   "source": [
    "## By hash"
   ]
  },
  {
   "cell_type": "code",
   "execution_count": 100,
   "metadata": {
    "ExecuteTime": {
     "end_time": "2023-05-15T18:47:54.468537Z",
     "start_time": "2023-05-15T18:47:49.117867Z"
    }
   },
   "outputs": [
    {
     "name": "stdout",
     "output_type": "stream",
     "text": [
      "Oct06-10-49_MNIST_8bef0c74ea_RMSpRMSpMNISTAsymResLNet10BNaffine_297\n",
      "['BP' 'FA' 'SLVanilla']\n",
      "Oct06-10-50_MNIST_8bef0c74ea_RMSpRMSpMNISTAsymResLNet10BNaffine_398\n",
      "['BP' 'FA' 'SLVanilla']\n",
      "Oct06-10-50_MNIST_8bef0c74ea_RMSpRMSpMNISTAsymResLNet10BNaffine_214\n",
      "['BP' 'FA' 'SLVanilla']\n",
      "Oct06-10-50_MNIST_8bef0c74ea_RMSpRMSpMNISTAsymResLNet10BNaffine_879\n",
      "['BP' 'FA' 'SLVanilla']\n",
      "Oct06-10-50_MNIST_8bef0c74ea_RMSpRMSpMNISTAsymResLNet10BNaffine_439\n",
      "['BP' 'FA' 'SLVanilla']\n",
      "Oct06-10-50_MNIST_8bef0c74ea_RMSpRMSpMNISTAsymResLNet10BNaffine_625\n",
      "['BP' 'FA' 'SLVanilla']\n",
      "Oct06-10-50_MNIST_8bef0c74ea_RMSpRMSpMNISTAsymResLNet10BNaffine_383\n",
      "['BP' 'FA' 'SLVanilla']\n",
      "Oct06-10-50_MNIST_8bef0c74ea_RMSpRMSpMNISTAsymResLNet10BNaffine_372\n",
      "['BP' 'FA' 'SLVanilla']\n",
      "Oct06-10-51_MNIST_8bef0c74ea_RMSpRMSpMNISTAsymResLNet10BNaffine_646\n",
      "['BP' 'FA' 'SLVanilla']\n",
      "Oct06-10-51_MNIST_8bef0c74ea_RMSpRMSpMNISTAsymResLNet10BNaffine_946\n",
      "['BP' 'FA' 'SLVanilla']\n",
      "Oct06-10-51_MNIST_8bef0c74ea_RMSpRMSpMNISTAsymResLNet10BNaffine_88\n",
      "Oct06-10-51_MNIST_8bef0c74ea_RMSpRMSpMNISTAsymResLNet10BNaffine_584\n",
      "Oct06-10-51_MNIST_8bef0c74ea_RMSpRMSpMNISTAsymResLNet10BNaffine_113\n",
      "Oct06-10-51_MNIST_8bef0c74ea_RMSpRMSpMNISTAsymResLNet10BNaffine_388\n",
      "no eval for runname Oct06-10-51_MNIST_8bef0c74ea_RMSpRMSpMNISTAsymResLNet10BNaffine_550\n",
      "no eval for runname Oct06-10-51_MNIST_8bef0c74ea_RMSpRMSpMNISTAsymResLNet10BNaffine_382\n",
      "no eval for runname Oct06-10-51_MNIST_8bef0c74ea_RMSpRMSpMNISTAsymResLNet10BNaffine_45\n",
      "no eval for runname Oct06-10-51_MNIST_8bef0c74ea_RMSpRMSpMNISTAsymResLNet10BNaffine_610\n",
      "no eval for runname Oct06-10-51_MNIST_8bef0c74ea_RMSpRMSpMNISTAsymResLNet10BNaffine_954\n",
      "accuracy\n",
      "number of valid runs 10\n",
      "number of valid autoencoder runs 10\n",
      "number of valid autoencoder twocosts runs 0\n",
      "*** make sure the evaluation was done after the training was completed ***\n"
     ]
    }
   ],
   "source": [
    "import json\n",
    "import pandas as pd\n",
    "\n",
    "hashname= 'RMSpRMSpMNISTAsymResLNet10BNaffine'\n",
    "\n",
    "# for CIFAR10: 'asymresnet18_893'\n",
    "# for MNIST: 'RMSpRMSpMNISTAsymResLNet10BNaffine'\n",
    "\n",
    "#'RMSpRMSpMNISTAsymResLNet10BNaff3'\n",
    "\n",
    "#'RMSpRMSpMNISTAsymResLNet10BNaffine2' #'asymresnet18_893' # \n",
    "#'AsymResNetL10Simple'  #'asymresnet18_893'# \n",
    "\n",
    "\n",
    "measure_name = 'accuracy'  #'correlation' #'accuracy'\n",
    "\n",
    "# 'TwoCostAEcontrolMNISTCorrSchedulBHModu' #'TwoCostAEcontrolMNIST'\n",
    "#'asymresnet18_893' #'TwoCostAEcontrolMNISTCorrSchedul' #'hypsaymresnet18lr' #'TwoCostAEcontrolMNISTCorrSchedul'\n",
    "#'TwoCostAEcontrolMNIST'#'hypersearchRMSprop' #\n",
    "# 'RMSpRMSpMNISTAsymResLNet10BNaffine'#'RMSpRMSpMNISTAsymResLNet10BNaffine' #'RMSpRMSpMNISTAsymResLNet10BNaff3'\n",
    "# 'RMSpRMSpFaMNISTAsymResLNet10BNaffPtnc30'\n",
    "# 'RMSpropRMSpropMNISTAsymResLNet10'\n",
    "\n",
    "\n",
    "with open(path_prefix + '/Results/Symbio/runswithhash/%s.txt'%hashname) as f:\n",
    "    Lines = f.readlines() \n",
    "\n",
    "valid_runnames = {}\n",
    "valid_runnames_autoencoder = {}\n",
    "valid_runnames_autoencoder_tc = {}\n",
    "valid_runnames_dynamic = {}\n",
    "\n",
    "\n",
    "master_df = pd.DataFrame()\n",
    "master_df_autoencoder = pd.DataFrame()\n",
    "master_df_autoencodertwocosts = pd.DataFrame()\n",
    "master_df_dynamic = pd.DataFrame()\n",
    "for l in Lines:\n",
    "    \n",
    "    runname = l.strip('\\n')\n",
    "    columns = ['method', 'epsilon','sigma', 'itr0','itr1','itr2','itr3']\n",
    "    \n",
    "    \n",
    "    configs = yaml.safe_load(open(resultsdir + '%s/configs.yml'%runname, 'r'))\n",
    "    list_csv_paths = []\n",
    "#     print(path_prefix + '/Results/Symbio/Symbio/%s/evaluate/'%runname)\n",
    "\n",
    "    if os.path.exists(resultsdir + '%s/evaluate/'%runname):\n",
    "        df, df_autoencoder, df_autoencoder_tc = get_df_evaluate(runname, measure_name,master_df,master_df_autoencoder,\n",
    "                                                                master_df_autoencodertwocosts  )\n",
    "        \n",
    "        if len(df.columns)>0:\n",
    "            \n",
    "            print(np.unique(df['method']))\n",
    "            if np.all([m in list(df['method']) for m in methods]):\n",
    "                    valid_runnames[runname] = runname\n",
    "                    master_df = master_df.append(df)\n",
    "            # if there are autoencoder runs\n",
    "            if len(df_autoencoder.columns)>0:\n",
    "                if np.all([m in list(df_autoencoder['method']) for m in ['FA','BP']]):\n",
    "                    valid_runnames_autoencoder[runname] = runname\n",
    "                    master_df_autoencoder = master_df_autoencoder.append(df_autoencoder)\n",
    "\n",
    "    #         if len(df_autoencoder_tc.columns)>0:\n",
    "    #             if np.all([m in list(df_autoencoder_tc['method']) for m in ['FA','BP']]):\n",
    "    #                 valid_runnames_autoencoder_tc[runname] = runname\n",
    "    #                 master_df_autoencodertwocosts = master_df_autoencodertwocosts.append(df_autoencoder_tc)\n",
    "                   # if there are autoencoder runs\n",
    "    #         if len(df_dynamic.columns)>0:\n",
    "    #             if np.all([m in list(df_dynamic['method']) for m in ['FA','BP']]):\n",
    "    #                 valid_runnames_dynamic[runname] = runname\n",
    "    #                 master_df_dynamic = master_df_dynamic.append(df_dynamic)\n",
    "    else:\n",
    "        print('no eval for runname %s'%runname)\n",
    "\n",
    "print(measure_name)\n",
    "print('number of valid runs',len(valid_runnames))\n",
    "print('number of valid autoencoder runs',len(valid_runnames_autoencoder))\n",
    "print('number of valid autoencoder twocosts runs',len(valid_runnames_autoencoder_tc))\n",
    "# print('number of valid dynamic runs',len(valid_runnames_dynamic))\n",
    "print('*** make sure the evaluation was done after the training was completed ***')"
   ]
  },
  {
   "cell_type": "markdown",
   "metadata": {},
   "source": [
    "## inset Figure 1"
   ]
  },
  {
   "cell_type": "code",
   "execution_count": 99,
   "metadata": {
    "ExecuteTime": {
     "end_time": "2023-05-15T18:33:06.999696Z",
     "start_time": "2023-05-15T18:33:06.609198Z"
    }
   },
   "outputs": [
    {
     "name": "stdout",
     "output_type": "stream",
     "text": [
      "asymresnet18_893 accuracy\n"
     ]
    },
    {
     "data": {
      "image/png": "[encoded data removed]",
      "text/plain": [
       "<Figure size 216x144 with 1 Axes>"
      ]
     },
     "metadata": {
      "needs_background": "light"
     },
     "output_type": "display_data"
    }
   ],
   "source": [
    "import scipy.stats as ss\n",
    " #'BP'#'FA' #'SLVanilla'\n",
    "    \n",
    "with_autoencoder = False #False #True \n",
    "\n",
    "with_BP_FA = True ## relevant for measure_name = correlation\n",
    "\n",
    "colors_ae = {'FA':'lightgray', 'BP':'lightgray',}\n",
    "colors_tcae = {'FA':'rosybrown', 'BP':'rosybrown'}\n",
    "sigmas = np.unique(master_df['sigma2'])\n",
    "_, bins = np.histogram(sigmas,5)\n",
    "sigmas = np.floor(bins*10)/10\n",
    "\n",
    "for iteration in range(1):\n",
    "    fig, ax = plt.subplots(1,1, figsize=[3,2])\n",
    "    for method in ['SLVanilla','BP','FA']:\n",
    "    \n",
    "        \n",
    "        itr_means, itr_sems = [], []\n",
    "        for j, s in enumerate(sigmas):\n",
    "            mehtod_selection = master_df['method']==method\n",
    "            epsilon_selection = master_df['epsilon']==0.0\n",
    "            sigma2_selection = (master_df['sigma2']-s)<0.01\n",
    "            itr = master_df[(mehtod_selection & epsilon_selection )& sigma2_selection]['itr%d'%iteration]\n",
    "    #         ax.bar(j,itr.mean(), edgecolor=colors[method], color = facecolors[method])\n",
    "    #         ax.errorbar(j,itr.mean(), ss.sem(itr), color='k' )\n",
    "            itr_means.append(itr.mean())\n",
    "            itr_sems.append(ss.sem(itr))\n",
    "        if (method in ['BP','FA']) & (with_BP_FA) & (measure_name == 'correlation'):\n",
    "            ax.errorbar(sigmas,itr_means, itr_sems, label=method_labels[method], color=colors[method], ls=linestyles[method])\n",
    "        \n",
    "        elif (method=='SLVanilla') or with_BP_FA:\n",
    "            ax.errorbar(sigmas,itr_means, itr_sems, label=method_labels[method], color=colors[method], ls=linestyles[method])\n",
    "\n",
    "        \n",
    "        if measure_name == 'accuracy':\n",
    "            ax.set_ylim([40,100])\n",
    "        elif (method in ['BP','FA']) & (with_BP_FA) & (measure_name == 'correlation'):\n",
    "            pass\n",
    "        else:\n",
    "            ax.set_ylim([0,0.95])\n",
    "            \n",
    "        \n",
    "#       #  -----autoencoders\n",
    "        if with_autoencoder:\n",
    "            if method in ['FA','BP']:\n",
    "                itr_means, itr_sems = [], []\n",
    "                for j, s in enumerate(sigmas):\n",
    "                    method_selection = master_df_autoencoder['method']==method\n",
    "                    epsilon_selection = master_df_autoencoder['epsilon']==0.0\n",
    "                    sigma2_selection = (master_df_autoencoder['sigma2']-s)<0.01\n",
    "                    itr = master_df_autoencoder[(method_selection & epsilon_selection )& sigma2_selection]['itr%d'%iteration]\n",
    "            #         ax.bar(j,itr.mean(), edgecolor=colors[method], color = facecolors[method])\n",
    "            #         ax.errorbar(j,itr.mean(), ss.sem(itr), color='k' )\n",
    "                    itr_means.append(itr.mean())\n",
    "                    itr_sems.append(ss.sem(itr))\n",
    "                ax.errorbar(sigmas,itr_means, itr_sems, label=method_labels[method]+' AE', color=colors[method], \n",
    "                            ls='--')\n",
    "        \n",
    "#         #  -----autoencoders two costs\n",
    "#         if method in ['FA','BP']:\n",
    "#             itr_means, itr_sems = [], []\n",
    "#             for j, s in enumerate(sigmas):\n",
    "#                 method_selection = master_df_autoencodertwocosts['method']==method\n",
    "#                 epsilon_selection = master_df_autoencodertwocosts['epsilon']==0.0\n",
    "#                 sigma2_selection = (master_df_autoencodertwocosts['sigma2']-s)<0.01\n",
    "#                 itr = master_df_autoencodertwocosts[(method_selection & epsilon_selection )& sigma2_selection]['itr%d'%iteration]\n",
    "#         #         ax.bar(j,itr.mean(), edgecolor=colors[method], color = facecolors[method])\n",
    "#         #         ax.errorbar(j,itr.mean(), ss.sem(itr), color='k' )\n",
    "#                 itr_means.append(itr.mean())\n",
    "#                 itr_sems.append(ss.sem(itr))\n",
    "#             ax.errorbar(sigmas,itr_means, itr_sems, label=method_labels[method]+'twocosts AE', color=colors_tcae[method], ls=linestyles[method])\n",
    "\n",
    "\n",
    "        ax = plt.gca()\n",
    "        ax.patch.set_visible(False)\n",
    "        ax.spines['right'].set_visible(False)\n",
    "        ax.spines['top'].set_visible(False)\n",
    "        plt.tick_params(axis='y',direction='out', right=False)\n",
    "        plt.tick_params(axis='x',direction='out', top=False)\n",
    "    #     ax.set_xticks(range(len(sigmas)))\n",
    "    #     ax.set_xticklabels(sigmas)\n",
    "        ax.set_xlabel('input noise ' +r'$\\sigma^2$')\n",
    "        ax.set_ylabel('Test %s'%measure_name)\n",
    "        \n",
    "        \n",
    "        ax.spines['left'].set_position(('axes', -0.02))\n",
    "        ax.spines['bottom'].set_position(('axes', -0.02))\n",
    "              \n",
    "        \n",
    "        \n",
    "#         if measure_name == 'accuracy':\n",
    "#             ax.text(1.1, 1, hashname, fontsize=8, rotation=90)\n",
    "        if iteration:\n",
    "            ax.set_title('Robustness to noise: iteration %d'%(iteration)) #\n",
    "        ax.legend(fontsize=9)\n",
    "        plt.tight_layout()\n",
    "    \n",
    "    if with_autoencoder:\n",
    "        fig.savefig(figsavedir + 'Small_%s_noise_itr%d_%s_withAEs.png'%(hashname, iteration, measure_name), dpi=200)\n",
    "        fig.savefig(figsavedir + 'Small_%s_noise_itr%d_%s_withAEs.pdf'%(hashname, iteration, measure_name), dpi=200)\n",
    "    else:\n",
    "        fig.savefig(figsavedir + 'Small_%s_noise_itr%d_%s.png'%(hashname, iteration, measure_name), dpi=200)\n",
    "        fig.savefig(figsavedir + 'Small_%s_noise_itr%d_%s.pdf'%(hashname, iteration, measure_name), dpi=200)\n",
    "\n",
    "\n",
    "print(hashname, measure_name)"
   ]
  },
  {
   "cell_type": "markdown",
   "metadata": {},
   "source": [
    "## Noise (sigma2)"
   ]
  },
  {
   "cell_type": "code",
   "execution_count": 102,
   "metadata": {
    "ExecuteTime": {
     "end_time": "2023-05-15T18:49:25.114798Z",
     "start_time": "2023-05-15T18:49:23.603615Z"
    }
   },
   "outputs": [
    {
     "name": "stdout",
     "output_type": "stream",
     "text": [
      "RMSpRMSpMNISTAsymResLNet10BNaffine accuracy\n"
     ]
    },
    {
     "data": {
      "image/png": "[encoded data removed]",
      "text/plain": [
       "<Figure size 288x216 with 1 Axes>"
      ]
     },
     "metadata": {
      "needs_background": "light"
     },
     "output_type": "display_data"
    },
    {
     "data": {
      "image/png": "[encoded data removed]",
      "text/plain": [
       "<Figure size 288x216 with 1 Axes>"
      ]
     },
     "metadata": {
      "needs_background": "light"
     },
     "output_type": "display_data"
    },
    {
     "data": {
      "image/png": "[encoded data removed]",
      "text/plain": [
       "<Figure size 288x216 with 1 Axes>"
      ]
     },
     "metadata": {
      "needs_background": "light"
     },
     "output_type": "display_data"
    },
    {
     "data": {
      "image/png": "[encoded data removed]",
      "text/plain": [
       "<Figure size 288x216 with 1 Axes>"
      ]
     },
     "metadata": {
      "needs_background": "light"
     },
     "output_type": "display_data"
    }
   ],
   "source": [
    "import scipy.stats as ss\n",
    " #'BP'#'FA' #'SLVanilla'\n",
    "    \n",
    "with_autoencoder = False #False #True \n",
    "\n",
    "with_BP_FA = True ## relevant for measure_name = correlation\n",
    "\n",
    "colors_ae = {'FA':'lightgray', 'BP':'lightgray',}\n",
    "colors_tcae = {'FA':'rosybrown', 'BP':'rosybrown'}\n",
    "sigmas = np.unique(master_df['sigma2'])\n",
    "_, bins = np.histogram(sigmas,5)\n",
    "sigmas = np.floor(bins*10)/10\n",
    "\n",
    "for iteration in range(4):\n",
    "    fig, ax = plt.subplots(1,1, figsize=[4,3])\n",
    "    for method in ['SLVanilla','BP','FA']:\n",
    "    \n",
    "        \n",
    "        itr_means, itr_sems = [], []\n",
    "        for j, s in enumerate(sigmas):\n",
    "            mehtod_selection = master_df['method']==method\n",
    "            epsilon_selection = master_df['epsilon']==0.0\n",
    "            sigma2_selection = (master_df['sigma2']-s)<0.01\n",
    "            itr = master_df[(mehtod_selection & epsilon_selection )& sigma2_selection]['itr%d'%iteration]\n",
    "    #         ax.bar(j,itr.mean(), edgecolor=colors[method], color = facecolors[method])\n",
    "    #         ax.errorbar(j,itr.mean(), ss.sem(itr), color='k' )\n",
    "            itr_means.append(itr.mean())\n",
    "            itr_sems.append(ss.sem(itr))\n",
    "        if (method in ['BP','FA']) & (with_BP_FA) & (measure_name == 'correlation'):\n",
    "            ax.errorbar(sigmas,itr_means, itr_sems, label=method_labels[method], color=colors[method], ls=linestyles[method])\n",
    "        \n",
    "        elif (method=='SLVanilla') or with_BP_FA:\n",
    "            ax.errorbar(sigmas,itr_means, itr_sems, label=method_labels[method], color=colors[method], ls=linestyles[method])\n",
    "\n",
    "        \n",
    "        if measure_name == 'accuracy':\n",
    "            ax.set_ylim([0,100])\n",
    "        elif (method in ['BP','FA']) & (with_BP_FA) & (measure_name == 'correlation'):\n",
    "            pass\n",
    "        else:\n",
    "            ax.set_ylim([0,0.95])\n",
    "            \n",
    "        \n",
    "#       #  -----autoencoders\n",
    "        if with_autoencoder:\n",
    "            if method in ['FA','BP']:\n",
    "                itr_means, itr_sems = [], []\n",
    "                for j, s in enumerate(sigmas):\n",
    "                    method_selection = master_df_autoencoder['method']==method\n",
    "                    epsilon_selection = master_df_autoencoder['epsilon']==0.0\n",
    "                    sigma2_selection = (master_df_autoencoder['sigma2']-s)<0.01\n",
    "                    itr = master_df_autoencoder[(method_selection & epsilon_selection )& sigma2_selection]['itr%d'%iteration]\n",
    "            #         ax.bar(j,itr.mean(), edgecolor=colors[method], color = facecolors[method])\n",
    "            #         ax.errorbar(j,itr.mean(), ss.sem(itr), color='k' )\n",
    "                    itr_means.append(itr.mean())\n",
    "                    itr_sems.append(ss.sem(itr))\n",
    "                ax.errorbar(sigmas,itr_means, itr_sems, label=method_labels[method]+' AE', color=colors[method], \n",
    "                            ls='--')\n",
    "        \n",
    "#         #  -----autoencoders two costs\n",
    "#         if method in ['FA','BP']:\n",
    "#             itr_means, itr_sems = [], []\n",
    "#             for j, s in enumerate(sigmas):\n",
    "#                 method_selection = master_df_autoencodertwocosts['method']==method\n",
    "#                 epsilon_selection = master_df_autoencodertwocosts['epsilon']==0.0\n",
    "#                 sigma2_selection = (master_df_autoencodertwocosts['sigma2']-s)<0.01\n",
    "#                 itr = master_df_autoencodertwocosts[(method_selection & epsilon_selection )& sigma2_selection]['itr%d'%iteration]\n",
    "#         #         ax.bar(j,itr.mean(), edgecolor=colors[method], color = facecolors[method])\n",
    "#         #         ax.errorbar(j,itr.mean(), ss.sem(itr), color='k' )\n",
    "#                 itr_means.append(itr.mean())\n",
    "#                 itr_sems.append(ss.sem(itr))\n",
    "#             ax.errorbar(sigmas,itr_means, itr_sems, label=method_labels[method]+'twocosts AE', color=colors_tcae[method], ls=linestyles[method])\n",
    "\n",
    "\n",
    "        ax = plt.gca()\n",
    "        ax.patch.set_visible(False)\n",
    "        ax.spines['right'].set_visible(False)\n",
    "        ax.spines['top'].set_visible(False)\n",
    "        plt.tick_params(axis='y',direction='out', right=False)\n",
    "        plt.tick_params(axis='x',direction='out', top=False)\n",
    "    #     ax.set_xticks(range(len(sigmas)))\n",
    "    #     ax.set_xticklabels(sigmas)\n",
    "        ax.set_xlabel('input noise ' +r'$\\sigma^2$')\n",
    "        ax.set_ylabel('Test %s'%measure_name)\n",
    "        \n",
    "        ax.spines['left'].set_position(('axes', -0.02))\n",
    "        ax.spines['bottom'].set_position(('axes', -0.02))\n",
    "#         if measure_name == 'accuracy':\n",
    "#             ax.text(1.1, 1, hashname, fontsize=8, rotation=90)\n",
    "        if iteration:\n",
    "            ax.set_title('Robustness to noise: iteration %d'%(iteration)) #\n",
    "        ax.legend(fontsize=12)\n",
    "        plt.tight_layout()\n",
    "    \n",
    "    if with_autoencoder:\n",
    "        fig.savefig(figsavedir + '%s_noise_itr%d_%s_withAEs.png'%(hashname, iteration, measure_name), dpi=200)\n",
    "        fig.savefig(figsavedir + '%s_noise_itr%d_%s_withAEs.pdf'%(hashname, iteration, measure_name), dpi=200)\n",
    "    else:\n",
    "        fig.savefig(figsavedir + '%s_noise_itr%d_%s.png'%(hashname, iteration, measure_name), dpi=200)\n",
    "        fig.savefig(figsavedir + '%s_noise_itr%d_%s.pdf'%(hashname, iteration, measure_name), dpi=200)\n",
    "\n",
    "\n",
    "print(hashname, measure_name)"
   ]
  },
  {
   "cell_type": "markdown",
   "metadata": {},
   "source": [
    "## Epsilon (adversarial attack)"
   ]
  },
  {
   "cell_type": "code",
   "execution_count": 103,
   "metadata": {
    "ExecuteTime": {
     "end_time": "2023-05-15T18:49:42.373398Z",
     "start_time": "2023-05-15T18:49:40.953331Z"
    }
   },
   "outputs": [
    {
     "name": "stdout",
     "output_type": "stream",
     "text": [
      "RMSpRMSpMNISTAsymResLNet10BNaffine accuracy\n"
     ]
    },
    {
     "data": {
      "image/png": "[encoded data removed]",
      "text/plain": [
       "<Figure size 288x216 with 1 Axes>"
      ]
     },
     "metadata": {
      "needs_background": "light"
     },
     "output_type": "display_data"
    },
    {
     "data": {
      "image/png": "[encoded data removed]",
      "text/plain": [
       "<Figure size 288x216 with 1 Axes>"
      ]
     },
     "metadata": {
      "needs_background": "light"
     },
     "output_type": "display_data"
    },
    {
     "data": {
      "image/png": "[encoded data removed]",
      "text/plain": [
       "<Figure size 288x216 with 1 Axes>"
      ]
     },
     "metadata": {
      "needs_background": "light"
     },
     "output_type": "display_data"
    },
    {
     "data": {
      "image/png": "[encoded data removed]",
      "text/plain": [
       "<Figure size 288x216 with 1 Axes>"
      ]
     },
     "metadata": {
      "needs_background": "light"
     },
     "output_type": "display_data"
    }
   ],
   "source": [
    "method = 'FA' #'BP'#'FA' #'SLVanilla'\n",
    "facecolors = {'FA':'white', 'SLVanilla':'red', 'BP':'k'}\n",
    "\n",
    "epsilons = np.unique(master_df['epsilon'])\n",
    "\n",
    "\n",
    "\n",
    "for iteration in range(4):\n",
    "    fig, ax = plt.subplots(1,1, figsize=[4,3])\n",
    "    for method in ['SLVanilla','BP','FA']:\n",
    "    \n",
    "        \n",
    "        itr_means, itr_sems = [], []\n",
    "        for j, eps in enumerate(epsilons):\n",
    "            mehtod_selection = master_df['method']==method\n",
    "            epsilon_selection = master_df['epsilon']==eps\n",
    "            sigma2_selection = (master_df['sigma2']-0.0)<0.01\n",
    "            itr = master_df[(mehtod_selection & epsilon_selection )& sigma2_selection]['itr%d'%iteration]\n",
    "            itr_means.append(itr.mean())\n",
    "            itr_sems.append(ss.sem(itr))\n",
    "            \n",
    "        ax.errorbar(epsilons,itr_means, itr_sems, label=method_labels[method], color=colors[method], ls=linestyles[method])\n",
    "\n",
    "#         if measure_name == 'accuracy':\n",
    "#             ax.set_ylim([0,100])\n",
    "#         else:\n",
    "#             ax.set_ylim([0,0.9])\n",
    "\n",
    "        ax = plt.gca()\n",
    "        ax.patch.set_visible(False)\n",
    "        ax.spines['right'].set_visible(False)\n",
    "        ax.spines['top'].set_visible(False)\n",
    "        plt.tick_params(axis='y',direction='out', right=False)\n",
    "        plt.tick_params(axis='x',direction='out', top=False)\n",
    "        \n",
    "        ax.spines['left'].set_position(('axes', -0.02))\n",
    "        ax.spines['bottom'].set_position(('axes', -0.02))\n",
    "\n",
    "\n",
    "        ax.set_xlabel('Attack '+r'$\\epsilon$')\n",
    "        ax.set_ylabel('Test %s'%measure_name)\n",
    "#         if measure_name == 'accuracy':\n",
    "#             ax.text(1.1, 1, hashname, fontsize=8, rotation=90)\n",
    "        if iteration:\n",
    "            ax.set_title('Adversarial attack robustness: iteration %d'%(iteration)) #: iteration %d'%(iteration)\n",
    "        ax.legend()\n",
    "        plt.tight_layout()\n",
    "\n",
    "    fig.savefig(figsavedir + '%s_advattack_itr%d_%s.png'%(hashname, iteration, measure_name), dpi=200)\n",
    "    fig.savefig(figsavedir + '%s_advattack_itr%d_%s.pdf'%(hashname, iteration, measure_name), dpi=200)\n",
    "    \n",
    "print(hashname, measure_name)"
   ]
  },
  {
   "cell_type": "markdown",
   "metadata": {},
   "source": [
    "## Recurrence for noise"
   ]
  },
  {
   "cell_type": "code",
   "execution_count": 109,
   "metadata": {
    "ExecuteTime": {
     "end_time": "2023-05-15T18:53:26.403976Z",
     "start_time": "2023-05-15T18:53:26.397081Z"
    }
   },
   "outputs": [],
   "source": [
    "plt.rcParams[\"font.family\"] = \"Arial\"\n"
   ]
  },
  {
   "cell_type": "markdown",
   "metadata": {},
   "source": [
    "### with autoencoders or without"
   ]
  },
  {
   "cell_type": "code",
   "execution_count": 112,
   "metadata": {
    "ExecuteTime": {
     "end_time": "2023-05-15T18:54:03.820803Z",
     "start_time": "2023-05-15T18:54:01.820746Z"
    }
   },
   "outputs": [
    {
     "name": "stdout",
     "output_type": "stream",
     "text": [
      "RMSpRMSpMNISTAsymResLNet10BNaffine accuracy OR\n",
      "Oct06-10-51_MNIST_8bef0c74ea_RMSpRMSpMNISTAsymResLNet10BNaffine_954 accuracy\n"
     ]
    },
    {
     "data": {
      "image/png": "[encoded data removed]",
      "text/plain": [
       "<Figure size 216x216 with 1 Axes>"
      ]
     },
     "metadata": {
      "needs_background": "light"
     },
     "output_type": "display_data"
    },
    {
     "data": {
      "image/png": "[encoded data removed]",
      "text/plain": [
       "<Figure size 216x216 with 1 Axes>"
      ]
     },
     "metadata": {
      "needs_background": "light"
     },
     "output_type": "display_data"
    },
    {
     "data": {
      "image/png": "[encoded data removed]",
      "text/plain": [
       "<Figure size 216x216 with 1 Axes>"
      ]
     },
     "metadata": {
      "needs_background": "light"
     },
     "output_type": "display_data"
    },
    {
     "data": {
      "image/png": "[encoded data removed]",
      "text/plain": [
       "<Figure size 216x216 with 1 Axes>"
      ]
     },
     "metadata": {
      "needs_background": "light"
     },
     "output_type": "display_data"
    },
    {
     "data": {
      "image/png": "[encoded data removed]",
      "text/plain": [
       "<Figure size 216x216 with 1 Axes>"
      ]
     },
     "metadata": {
      "needs_background": "light"
     },
     "output_type": "display_data"
    },
    {
     "data": {
      "image/png": "[encoded data removed]",
      "text/plain": [
       "<Figure size 216x216 with 1 Axes>"
      ]
     },
     "metadata": {
      "needs_background": "light"
     },
     "output_type": "display_data"
    }
   ],
   "source": [
    "with_autoencoder = False #True\n",
    "\n",
    "import scipy.stats as ss\n",
    " #'BP'#'FA' #'SLVanilla'\n",
    "facecolors = {'FA':'white', 'SLVanilla':'red', 'BP':'k'}\n",
    "colors_dd = {'FA':'y', 'BP':'g', }\n",
    "sigmas = np.unique(master_df['sigma2'])\n",
    "_, bins = np.histogram(sigmas,5)\n",
    "sigmas = np.floor(bins*10)/10\n",
    "\n",
    "for s in sigmas:\n",
    "\n",
    "\n",
    "    fig, ax = plt.subplots(1,1,figsize=[3,3])\n",
    "    for method in ['SLVanilla','BP','FA']:\n",
    "\n",
    "\n",
    "        itr_means, itr_sems = [], []\n",
    "        for iteration in range(4):\n",
    "            mehtod_selection = master_df['method']==method\n",
    "            epsilon_selection = master_df['epsilon']==0.0\n",
    "            sigma2_selection = (master_df['sigma2']-s)<0.01\n",
    "            itr = master_df[(mehtod_selection & epsilon_selection )& sigma2_selection]['itr%d'%iteration]\n",
    "    #         ax.bar(j,itr.mean(), edgecolor=colors[method], color = facecolors[method])\n",
    "    #         ax.errorbar(j,itr.mean(), ss.sem(itr), color='k' )\n",
    "            itr_means.append(itr.mean())\n",
    "            itr_sems.append(ss.sem(itr))\n",
    "        ax.errorbar(range(4),itr_means, itr_sems, label=method_labels[method], color=colors[method],)\n",
    "        \n",
    "        if with_autoencoder:\n",
    "            #-----autoencoders\n",
    "            if method in ['FA','BP']:\n",
    "                itr_means, itr_sems = [], []\n",
    "                for iteration in range(4):\n",
    "                    method_selection = master_df_autoencoder['method']==method\n",
    "                    epsilon_selection = master_df_autoencoder['epsilon']==0.0\n",
    "                    sigma2_selection = (master_df_autoencoder['sigma2']-s)<0.01\n",
    "                    itr = master_df_autoencoder[(method_selection & epsilon_selection )& sigma2_selection]['itr%d'%iteration]\n",
    "            #         ax.bar(j,itr.mean(), edgecolor=colors[method], color = facecolors[method])\n",
    "            #         ax.errorbar(j,itr.mean(), ss.sem(itr), color='k' )\n",
    "                    itr_means.append(itr.mean())\n",
    "                    itr_sems.append(ss.sem(itr))\n",
    "                ax.errorbar(range(4),itr_means, itr_sems, label=method_labels[method]+' AE', color=colors[method], \n",
    "                            ls='--')\n",
    "\n",
    "        \n",
    "#         #-----autoencoders two costs\n",
    "#         if method in ['FA','BP']:\n",
    "#             itr_means, itr_sems = [], []\n",
    "#             for iteration in range(4):\n",
    "#                 method_selection = master_df_autoencodertwocosts['method']==method\n",
    "#                 epsilon_selection = master_df_autoencodertwocosts['epsilon']==0.0\n",
    "#                 sigma2_selection = (master_df_autoencodertwocosts['sigma2']-s)<0.01\n",
    "#                 itr = master_df_autoencodertwocosts[(method_selection & epsilon_selection )& sigma2_selection]['itr%d'%iteration]\n",
    "#         #         ax.bar(j,itr.mean(), edgecolor=colors[method], color = facecolors[method])\n",
    "#         #         ax.errorbar(j,itr.mean(), ss.sem(itr), color='k' )\n",
    "#                 itr_means.append(itr.mean())\n",
    "#                 itr_sems.append(ss.sem(itr))\n",
    "#             ax.errorbar(range(4),itr_means, itr_sems, label=method_labels[method]+' twocosts AE', color=colors_tcae[method], ls=linestyles[method])\n",
    "\n",
    "        \n",
    "        \n",
    "        \n",
    "        \n",
    "#          #-----dynamic decoders\n",
    "#         if method in ['FA','BP']:\n",
    "#             itr_means, itr_sems = [], []\n",
    "#             for iteration in range(4):\n",
    "#                 method_selection = master_df_dynamic['method']==method\n",
    "#                 epsilon_selection = master_df_dynamic['epsilon']==0.0\n",
    "#                 sigma2_selection = (master_df_dynamic['sigma2']-s)<0.01\n",
    "#                 itr = master_df_dynamic[(method_selection & epsilon_selection )& sigma2_selection]['itr%d'%iteration]\n",
    "#         #         ax.bar(j,itr.mean(), edgecolor=colors[method], color = facecolors[method])\n",
    "#         #         ax.errorbar(j,itr.mean(), ss.sem(itr), color='k' )\n",
    "#                 itr_means.append(itr.mean())\n",
    "#                 itr_sems.append(ss.sem(itr))\n",
    "#             ax.errorbar(range(4),itr_means, itr_sems, label=method_labels[method]+' Dd', color=colors_dd[method], ls=linestyles[method])\n",
    "\n",
    "        \n",
    "        \n",
    "#         if measure_name == 'accuracy':\n",
    "#             ax.set_ylim([70,100])\n",
    "#         else:\n",
    "#             ax.set_ylim([-0.1,0.8])\n",
    "\n",
    "        ax = plt.gca()\n",
    "        ax.patch.set_visible(False)\n",
    "        ax.spines['right'].set_visible(False)\n",
    "        ax.spines['top'].set_visible(False)\n",
    "        plt.tick_params(axis='y',direction='out', right=False)\n",
    "        plt.tick_params(axis='x',direction='out', top=False)\n",
    "        ax.set_xticks(range(4))\n",
    "    #     ax.set_xticklabels(range(4))\n",
    "        ax.set_xlabel('iteration', fontsize=12)\n",
    "        ax.set_ylabel('Test %s'%measure_name, fontsize=12)\n",
    "    #     if measure_name == 'accuracy':\n",
    "    #         ax.text(1.1, 1, hashname, fontsize=8, rotation=90)\n",
    "    \n",
    "        ax.spines['left'].set_position(('axes', -0.02))\n",
    "        ax.spines['bottom'].set_position(('axes', -0.02))\n",
    "\n",
    "\n",
    "        ax.set_title('noise robustness '+ r'$\\sigma^2$=%0.1f'%(s))\n",
    "        ax.legend(fontsize=12)\n",
    "        plt.tight_layout()\n",
    "\n",
    "    if with_autoencoder:\n",
    "        fig.savefig(figsavedir + '%s_noise_sigma2_%s_%s_withAEs.png'%(hashname,s, measure_name), dpi=200)\n",
    "        fig.savefig(figsavedir + '%s_noise_sigma2_%s_%s_withAEs.pdf'%(hashname,s, measure_name), dpi=200)\n",
    "        \n",
    "    else:\n",
    "        fig.savefig(figsavedir + '%s_noise_sigma2_%s_%s.png'%(hashname,s, measure_name), dpi=200)\n",
    "        fig.savefig(figsavedir + '%s_noise_sigma2_%s_%s.pdf'%(hashname,s, measure_name), dpi=200)\n",
    "\n",
    "        \n",
    "print(hashname, measure_name, 'OR')\n",
    "print(runname, measure_name)"
   ]
  },
  {
   "cell_type": "code",
   "execution_count": 36,
   "metadata": {},
   "outputs": [
    {
     "data": {
      "text/html": [
       "<div>\n",
       "<style scoped>\n",
       "    .dataframe tbody tr th:only-of-type {\n",
       "        vertical-align: middle;\n",
       "    }\n",
       "\n",
       "    .dataframe tbody tr th {\n",
       "        vertical-align: top;\n",
       "    }\n",
       "\n",
       "    .dataframe thead th {\n",
       "        text-align: right;\n",
       "    }\n",
       "</style>\n",
       "<table border=\"1\" class=\"dataframe\">\n",
       "  <thead>\n",
       "    <tr style=\"text-align: right;\">\n",
       "      <th></th>\n",
       "      <th>method</th>\n",
       "      <th>epsilon</th>\n",
       "      <th>sigma2</th>\n",
       "      <th>itr0</th>\n",
       "      <th>itr1</th>\n",
       "      <th>itr2</th>\n",
       "      <th>itr3</th>\n",
       "    </tr>\n",
       "  </thead>\n",
       "  <tbody>\n",
       "    <tr>\n",
       "      <th>0</th>\n",
       "      <td>FA</td>\n",
       "      <td>0.0</td>\n",
       "      <td>0.901</td>\n",
       "      <td>48.828</td>\n",
       "      <td>44.141</td>\n",
       "      <td>35.938</td>\n",
       "      <td>31.250</td>\n",
       "    </tr>\n",
       "    <tr>\n",
       "      <th>1</th>\n",
       "      <td>FA</td>\n",
       "      <td>0.0</td>\n",
       "      <td>0.101</td>\n",
       "      <td>74.219</td>\n",
       "      <td>50.000</td>\n",
       "      <td>33.984</td>\n",
       "      <td>37.109</td>\n",
       "    </tr>\n",
       "    <tr>\n",
       "      <th>2</th>\n",
       "      <td>BP</td>\n",
       "      <td>0.0</td>\n",
       "      <td>0.501</td>\n",
       "      <td>60.547</td>\n",
       "      <td>45.312</td>\n",
       "      <td>37.891</td>\n",
       "      <td>37.109</td>\n",
       "    </tr>\n",
       "    <tr>\n",
       "      <th>3</th>\n",
       "      <td>FA</td>\n",
       "      <td>0.0</td>\n",
       "      <td>0.301</td>\n",
       "      <td>64.844</td>\n",
       "      <td>47.266</td>\n",
       "      <td>38.281</td>\n",
       "      <td>30.469</td>\n",
       "    </tr>\n",
       "    <tr>\n",
       "      <th>4</th>\n",
       "      <td>BP</td>\n",
       "      <td>0.0</td>\n",
       "      <td>0.001</td>\n",
       "      <td>89.453</td>\n",
       "      <td>60.156</td>\n",
       "      <td>48.047</td>\n",
       "      <td>38.281</td>\n",
       "    </tr>\n",
       "    <tr>\n",
       "      <th>5</th>\n",
       "      <td>FA</td>\n",
       "      <td>0.0</td>\n",
       "      <td>0.701</td>\n",
       "      <td>51.172</td>\n",
       "      <td>42.578</td>\n",
       "      <td>35.547</td>\n",
       "      <td>30.078</td>\n",
       "    </tr>\n",
       "    <tr>\n",
       "      <th>6</th>\n",
       "      <td>BP</td>\n",
       "      <td>0.0</td>\n",
       "      <td>0.101</td>\n",
       "      <td>83.203</td>\n",
       "      <td>55.078</td>\n",
       "      <td>48.438</td>\n",
       "      <td>34.766</td>\n",
       "    </tr>\n",
       "    <tr>\n",
       "      <th>7</th>\n",
       "      <td>BP</td>\n",
       "      <td>0.0</td>\n",
       "      <td>0.601</td>\n",
       "      <td>58.203</td>\n",
       "      <td>48.438</td>\n",
       "      <td>33.594</td>\n",
       "      <td>32.031</td>\n",
       "    </tr>\n",
       "    <tr>\n",
       "      <th>8</th>\n",
       "      <td>FA</td>\n",
       "      <td>0.0</td>\n",
       "      <td>0.801</td>\n",
       "      <td>48.828</td>\n",
       "      <td>42.188</td>\n",
       "      <td>38.672</td>\n",
       "      <td>29.297</td>\n",
       "    </tr>\n",
       "    <tr>\n",
       "      <th>9</th>\n",
       "      <td>BP</td>\n",
       "      <td>0.0</td>\n",
       "      <td>0.201</td>\n",
       "      <td>81.250</td>\n",
       "      <td>50.000</td>\n",
       "      <td>43.750</td>\n",
       "      <td>35.156</td>\n",
       "    </tr>\n",
       "    <tr>\n",
       "      <th>10</th>\n",
       "      <td>FA</td>\n",
       "      <td>0.0</td>\n",
       "      <td>0.401</td>\n",
       "      <td>58.203</td>\n",
       "      <td>46.094</td>\n",
       "      <td>35.547</td>\n",
       "      <td>29.297</td>\n",
       "    </tr>\n",
       "    <tr>\n",
       "      <th>11</th>\n",
       "      <td>BP</td>\n",
       "      <td>0.0</td>\n",
       "      <td>0.701</td>\n",
       "      <td>56.250</td>\n",
       "      <td>44.141</td>\n",
       "      <td>37.109</td>\n",
       "      <td>30.469</td>\n",
       "    </tr>\n",
       "    <tr>\n",
       "      <th>12</th>\n",
       "      <td>FA</td>\n",
       "      <td>0.0</td>\n",
       "      <td>0.201</td>\n",
       "      <td>67.188</td>\n",
       "      <td>48.047</td>\n",
       "      <td>38.672</td>\n",
       "      <td>34.375</td>\n",
       "    </tr>\n",
       "    <tr>\n",
       "      <th>13</th>\n",
       "      <td>FA</td>\n",
       "      <td>0.0</td>\n",
       "      <td>0.501</td>\n",
       "      <td>56.250</td>\n",
       "      <td>43.359</td>\n",
       "      <td>32.812</td>\n",
       "      <td>30.078</td>\n",
       "    </tr>\n",
       "    <tr>\n",
       "      <th>14</th>\n",
       "      <td>BP</td>\n",
       "      <td>0.0</td>\n",
       "      <td>0.301</td>\n",
       "      <td>72.266</td>\n",
       "      <td>51.172</td>\n",
       "      <td>36.328</td>\n",
       "      <td>30.469</td>\n",
       "    </tr>\n",
       "    <tr>\n",
       "      <th>15</th>\n",
       "      <td>BP</td>\n",
       "      <td>0.0</td>\n",
       "      <td>0.801</td>\n",
       "      <td>49.219</td>\n",
       "      <td>41.016</td>\n",
       "      <td>35.156</td>\n",
       "      <td>32.031</td>\n",
       "    </tr>\n",
       "    <tr>\n",
       "      <th>16</th>\n",
       "      <td>FA</td>\n",
       "      <td>0.0</td>\n",
       "      <td>0.001</td>\n",
       "      <td>78.125</td>\n",
       "      <td>46.094</td>\n",
       "      <td>39.844</td>\n",
       "      <td>33.203</td>\n",
       "    </tr>\n",
       "    <tr>\n",
       "      <th>17</th>\n",
       "      <td>FA</td>\n",
       "      <td>0.0</td>\n",
       "      <td>0.601</td>\n",
       "      <td>47.656</td>\n",
       "      <td>41.016</td>\n",
       "      <td>38.672</td>\n",
       "      <td>31.641</td>\n",
       "    </tr>\n",
       "    <tr>\n",
       "      <th>18</th>\n",
       "      <td>BP</td>\n",
       "      <td>0.0</td>\n",
       "      <td>0.901</td>\n",
       "      <td>56.641</td>\n",
       "      <td>38.672</td>\n",
       "      <td>35.938</td>\n",
       "      <td>30.469</td>\n",
       "    </tr>\n",
       "    <tr>\n",
       "      <th>19</th>\n",
       "      <td>BP</td>\n",
       "      <td>0.0</td>\n",
       "      <td>0.401</td>\n",
       "      <td>67.969</td>\n",
       "      <td>51.172</td>\n",
       "      <td>41.406</td>\n",
       "      <td>30.078</td>\n",
       "    </tr>\n",
       "  </tbody>\n",
       "</table>\n",
       "</div>"
      ],
      "text/plain": [
       "   method  epsilon  sigma2    itr0    itr1    itr2    itr3\n",
       "0      FA      0.0   0.901  48.828  44.141  35.938  31.250\n",
       "1      FA      0.0   0.101  74.219  50.000  33.984  37.109\n",
       "2      BP      0.0   0.501  60.547  45.312  37.891  37.109\n",
       "3      FA      0.0   0.301  64.844  47.266  38.281  30.469\n",
       "4      BP      0.0   0.001  89.453  60.156  48.047  38.281\n",
       "5      FA      0.0   0.701  51.172  42.578  35.547  30.078\n",
       "6      BP      0.0   0.101  83.203  55.078  48.438  34.766\n",
       "7      BP      0.0   0.601  58.203  48.438  33.594  32.031\n",
       "8      FA      0.0   0.801  48.828  42.188  38.672  29.297\n",
       "9      BP      0.0   0.201  81.250  50.000  43.750  35.156\n",
       "10     FA      0.0   0.401  58.203  46.094  35.547  29.297\n",
       "11     BP      0.0   0.701  56.250  44.141  37.109  30.469\n",
       "12     FA      0.0   0.201  67.188  48.047  38.672  34.375\n",
       "13     FA      0.0   0.501  56.250  43.359  32.812  30.078\n",
       "14     BP      0.0   0.301  72.266  51.172  36.328  30.469\n",
       "15     BP      0.0   0.801  49.219  41.016  35.156  32.031\n",
       "16     FA      0.0   0.001  78.125  46.094  39.844  33.203\n",
       "17     FA      0.0   0.601  47.656  41.016  38.672  31.641\n",
       "18     BP      0.0   0.901  56.641  38.672  35.938  30.469\n",
       "19     BP      0.0   0.401  67.969  51.172  41.406  30.078"
      ]
     },
     "execution_count": 36,
     "metadata": {},
     "output_type": "execute_result"
    }
   ],
   "source": [
    "master_df_autoencodertwocosts"
   ]
  },
  {
   "cell_type": "code",
   "execution_count": null,
   "metadata": {},
   "outputs": [],
   "source": []
  },
  {
   "cell_type": "code",
   "execution_count": null,
   "metadata": {},
   "outputs": [],
   "source": []
  }
 ],
 "metadata": {
  "kernelspec": {
   "display_name": "Python 3 (ipykernel)",
   "language": "python",
   "name": "python3"
  },
  "language_info": {
   "codemirror_mode": {
    "name": "ipython",
    "version": 3
   },
   "file_extension": ".py",
   "mimetype": "text/x-python",
   "name": "python",
   "nbconvert_exporter": "python",
   "pygments_lexer": "ipython3",
   "version": "3.7.11"
  },
  "varInspector": {
   "cols": {
    "lenName": 16,
    "lenType": 16,
    "lenVar": 40
   },
   "kernels_config": {
    "python": {
     "delete_cmd_postfix": "",
     "delete_cmd_prefix": "del ",
     "library": "var_list.py",
     "varRefreshCmd": "print(var_dic_list())"
    },
    "r": {
     "delete_cmd_postfix": ") ",
     "delete_cmd_prefix": "rm(",
     "library": "var_list.r",
     "varRefreshCmd": "cat(var_dic_list()) "
    }
   },
   "types_to_exclude": [
    "module",
    "function",
    "builtin_function_or_method",
    "instance",
    "_Feature"
   ],
   "window_display": false
  }
 },
 "nbformat": 4,
 "nbformat_minor": 4
}
