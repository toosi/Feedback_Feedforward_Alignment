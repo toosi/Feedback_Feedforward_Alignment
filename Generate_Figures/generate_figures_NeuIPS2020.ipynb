{
 "cells": [
  {
   "cell_type": "code",
   "execution_count": 1,
   "metadata": {},
   "outputs": [],
   "source": [
    "import torch\n",
    "import torchsummary\n",
    "from torchsummary import summary\n",
    "from torchvision import models\n",
    "\n",
    "import copy\n",
    "import numpy as np\n",
    "import pandas as pd\n",
    "import matplotlib.pylab as plt\n",
    "%matplotlib inline\n",
    "import os\n",
    "import yaml"
   ]
  },
  {
   "cell_type": "code",
   "execution_count": 2,
   "metadata": {},
   "outputs": [],
   "source": [
    "import socket\n",
    "if socket.gethostname()[0:4] in  ['node','holm','wats']:\n",
    "    path_prefix = '/rigel/issa/users/Tahereh/Research'\n",
    "elif socket.gethostname() == 'SYNPAI':\n",
    "    path_prefix = '/hdd6gig/Documents/Research'\n",
    "elif socket.gethostname()[0:2] == 'ax':\n",
    "    path_prefix = '/home/tt2684/Research'\n",
    "\n",
    "resultsdir = path_prefix + '/Results/Symbio/Symbio/'"
   ]
  },
  {
   "cell_type": "code",
   "execution_count": 3,
   "metadata": {},
   "outputs": [],
   "source": [
    "from models import custom_models_ResNetLraveled as custom_models\n"
   ]
  },
  {
   "cell_type": "code",
   "execution_count": 9,
   "metadata": {},
   "outputs": [
    {
     "name": "stdout",
     "output_type": "stream",
     "text": [
      "{'algorithm': 'SLVanilla', 'base_channels': 64, 'image_channels': 3, 'n_classes': 10, 'normalization_affine': True}\n"
     ]
    }
   ],
   "source": [
    "algorithm='SLVanilla'\n",
    "\n",
    "arche = 'AsymResLNet10F' #'FullyConnectedF' # AsymResLNet10F\n",
    "archd = 'AsymResLNet10B' #'FullyConnectedB' # AsymResLNet10B\n",
    "if 'FullyConnected' in arche:\n",
    "        kwargs_asym = {'algorithm':algorithm, 'hidden_layers':[256, 256, 10], 'nonlinearfunc':'relu', 'input_length':1024}\n",
    "else:\n",
    "    kwargs_asym = {'algorithm':algorithm, 'base_channels':64, 'image_channels':3, 'n_classes':10, 'normalization_affine': True}\n",
    "\n",
    "print(kwargs_asym)\n",
    "modelF = getattr(custom_models, arche)(**kwargs_asym) #Forward().cuda() # main model\n",
    "modelB = getattr(custom_models, archd)(**kwargs_asym) # backward network to compute gradients for mod"
   ]
  },
  {
   "cell_type": "code",
   "execution_count": 12,
   "metadata": {},
   "outputs": [
    {
     "name": "stdout",
     "output_type": "stream",
     "text": [
      "----------------------------------------------------------------\n",
      "        Layer (type)               Output Shape         Param #\n",
      "================================================================\n",
      "AsymmetricFeedbackConv2d-1           [-1, 64, 16, 16]           9,408\n",
      "       BatchNorm2d-2           [-1, 64, 16, 16]             128\n",
      "              ReLU-3           [-1, 64, 16, 16]               0\n",
      "AsymmetricFeedbackConv2d-4           [-1, 64, 16, 16]          36,864\n",
      "       BatchNorm2d-5           [-1, 64, 16, 16]             128\n",
      "              ReLU-6           [-1, 64, 16, 16]               0\n",
      "AsymmetricFeedbackConv2d-7           [-1, 64, 16, 16]          36,864\n",
      "       BatchNorm2d-8           [-1, 64, 16, 16]             128\n",
      "              ReLU-9           [-1, 64, 16, 16]               0\n",
      "AsymmetricFeedbackConv2d-10           [-1, 64, 16, 16]          36,864\n",
      "      BatchNorm2d-11           [-1, 64, 16, 16]             128\n",
      "             ReLU-12           [-1, 64, 16, 16]               0\n",
      "AsymmetricFeedbackConv2d-13          [-1, 128, 16, 16]          73,728\n",
      "      BatchNorm2d-14          [-1, 128, 16, 16]             256\n",
      "AsymmetricFeedbackConv2d-15          [-1, 128, 16, 16]           8,192\n",
      "      BatchNorm2d-16          [-1, 128, 16, 16]             256\n",
      "             ReLU-17          [-1, 128, 16, 16]               0\n",
      "AsymmetricFeedbackConv2d-18            [-1, 128, 8, 8]         147,456\n",
      "      BatchNorm2d-19            [-1, 128, 8, 8]             256\n",
      "             ReLU-20            [-1, 128, 8, 8]               0\n",
      "AsymmetricFeedbackConv2d-21            [-1, 128, 8, 8]         147,456\n",
      "      BatchNorm2d-22            [-1, 128, 8, 8]             256\n",
      "             ReLU-23            [-1, 128, 8, 8]               0\n",
      "AsymmetricFeedbackConv2d-24            [-1, 128, 8, 8]         147,456\n",
      "      BatchNorm2d-25            [-1, 128, 8, 8]             256\n",
      "             ReLU-26            [-1, 128, 8, 8]               0\n",
      "AsymmetricFeedbackConv2d-27             [-1, 10, 8, 8]          11,520\n",
      "      BatchNorm2d-28             [-1, 10, 8, 8]              20\n",
      "AsymmetricFeedbackConv2d-29             [-1, 10, 8, 8]           1,280\n",
      "             ReLU-30             [-1, 10, 8, 8]               0\n",
      "AdaptiveAvgPool2d-31             [-1, 10, 1, 1]               0\n",
      "================================================================\n",
      "Total params: 658,900\n",
      "Trainable params: 658,900\n",
      "Non-trainable params: 0\n",
      "----------------------------------------------------------------\n",
      "Input size (MB): 0.01\n",
      "Forward/backward pass size (MB): 3.33\n",
      "Params size (MB): 2.51\n",
      "Estimated Total Size (MB): 5.86\n",
      "----------------------------------------------------------------\n"
     ]
    }
   ],
   "source": [
    "summary(modelF, (3,32,32))"
   ]
  },
  {
   "cell_type": "code",
   "execution_count": 9,
   "metadata": {},
   "outputs": [
    {
     "name": "stdout",
     "output_type": "stream",
     "text": [
      "number of valid runs 0\n",
      "Acc:  SLVanilla nan\n",
      "Acc:  BP nan\n",
      "Acc:  FA nan\n"
     ]
    },
    {
     "name": "stderr",
     "output_type": "stream",
     "text": [
      "/home/tt2684/conda-envs/pytorch_tensorflow_latest/lib/python3.7/site-packages/numpy/core/fromnumeric.py:3335: RuntimeWarning: Mean of empty slice.\n",
      "  out=out, **kwargs)\n",
      "/home/tt2684/conda-envs/pytorch_tensorflow_latest/lib/python3.7/site-packages/numpy/core/_methods.py:154: RuntimeWarning: invalid value encountered in true_divide\n",
      "  ret, rcount, out=ret, casting='unsafe', subok=False)\n",
      "/home/tt2684/conda-envs/pytorch_tensorflow_latest/lib/python3.7/site-packages/numpy/core/fromnumeric.py:3335: RuntimeWarning: Mean of empty slice.\n",
      "  out=out, **kwargs)\n",
      "/home/tt2684/conda-envs/pytorch_tensorflow_latest/lib/python3.7/site-packages/numpy/core/_methods.py:154: RuntimeWarning: invalid value encountered in true_divide\n",
      "  ret, rcount, out=ret, casting='unsafe', subok=False)\n",
      "/home/tt2684/conda-envs/pytorch_tensorflow_latest/lib/python3.7/site-packages/numpy/core/_methods.py:217: RuntimeWarning: Degrees of freedom <= 0 for slice\n",
      "  keepdims=keepdims)\n",
      "/home/tt2684/conda-envs/pytorch_tensorflow_latest/lib/python3.7/site-packages/numpy/core/_methods.py:186: RuntimeWarning: invalid value encountered in true_divide\n",
      "  arrmean, rcount, out=arrmean, casting='unsafe', subok=False)\n",
      "/home/tt2684/conda-envs/pytorch_tensorflow_latest/lib/python3.7/site-packages/numpy/core/_methods.py:207: RuntimeWarning: invalid value encountered in true_divide\n",
      "  ret, rcount, out=ret, casting='unsafe', subok=False)\n",
      "/home/tt2684/conda-envs/pytorch_tensorflow_latest/lib/python3.7/site-packages/ipykernel_launcher.py:67: RuntimeWarning: Mean of empty slice.\n",
      "/home/tt2684/conda-envs/pytorch_tensorflow_latest/lib/python3.7/site-packages/numpy/core/fromnumeric.py:3335: RuntimeWarning: Mean of empty slice.\n",
      "  out=out, **kwargs)\n",
      "/home/tt2684/conda-envs/pytorch_tensorflow_latest/lib/python3.7/site-packages/numpy/core/_methods.py:154: RuntimeWarning: invalid value encountered in true_divide\n",
      "  ret, rcount, out=ret, casting='unsafe', subok=False)\n",
      "/home/tt2684/conda-envs/pytorch_tensorflow_latest/lib/python3.7/site-packages/numpy/core/_methods.py:217: RuntimeWarning: Degrees of freedom <= 0 for slice\n",
      "  keepdims=keepdims)\n",
      "/home/tt2684/conda-envs/pytorch_tensorflow_latest/lib/python3.7/site-packages/numpy/core/_methods.py:186: RuntimeWarning: invalid value encountered in true_divide\n",
      "  arrmean, rcount, out=arrmean, casting='unsafe', subok=False)\n",
      "/home/tt2684/conda-envs/pytorch_tensorflow_latest/lib/python3.7/site-packages/numpy/core/_methods.py:207: RuntimeWarning: invalid value encountered in true_divide\n",
      "  ret, rcount, out=ret, casting='unsafe', subok=False)\n",
      "/home/tt2684/conda-envs/pytorch_tensorflow_latest/lib/python3.7/site-packages/ipykernel_launcher.py:67: RuntimeWarning: Mean of empty slice.\n",
      "/home/tt2684/conda-envs/pytorch_tensorflow_latest/lib/python3.7/site-packages/numpy/core/fromnumeric.py:3335: RuntimeWarning: Mean of empty slice.\n",
      "  out=out, **kwargs)\n",
      "/home/tt2684/conda-envs/pytorch_tensorflow_latest/lib/python3.7/site-packages/numpy/core/_methods.py:154: RuntimeWarning: invalid value encountered in true_divide\n",
      "  ret, rcount, out=ret, casting='unsafe', subok=False)\n",
      "/home/tt2684/conda-envs/pytorch_tensorflow_latest/lib/python3.7/site-packages/numpy/core/_methods.py:217: RuntimeWarning: Degrees of freedom <= 0 for slice\n",
      "  keepdims=keepdims)\n",
      "/home/tt2684/conda-envs/pytorch_tensorflow_latest/lib/python3.7/site-packages/numpy/core/_methods.py:186: RuntimeWarning: invalid value encountered in true_divide\n",
      "  arrmean, rcount, out=arrmean, casting='unsafe', subok=False)\n",
      "/home/tt2684/conda-envs/pytorch_tensorflow_latest/lib/python3.7/site-packages/numpy/core/_methods.py:207: RuntimeWarning: invalid value encountered in true_divide\n",
      "  ret, rcount, out=ret, casting='unsafe', subok=False)\n",
      "/home/tt2684/conda-envs/pytorch_tensorflow_latest/lib/python3.7/site-packages/ipykernel_launcher.py:67: RuntimeWarning: Mean of empty slice.\n",
      "/home/tt2684/conda-envs/pytorch_tensorflow_latest/lib/python3.7/site-packages/ipykernel_launcher.py:89: RuntimeWarning: Mean of empty slice.\n",
      "/home/tt2684/conda-envs/pytorch_tensorflow_latest/lib/python3.7/site-packages/numpy/core/_methods.py:154: RuntimeWarning: invalid value encountered in true_divide\n",
      "  ret, rcount, out=ret, casting='unsafe', subok=False)\n",
      "/home/tt2684/conda-envs/pytorch_tensorflow_latest/lib/python3.7/site-packages/ipykernel_launcher.py:90: RuntimeWarning: Mean of empty slice.\n",
      "/home/tt2684/conda-envs/pytorch_tensorflow_latest/lib/python3.7/site-packages/numpy/core/_methods.py:154: RuntimeWarning: invalid value encountered in true_divide\n",
      "  ret, rcount, out=ret, casting='unsafe', subok=False)\n",
      "/home/tt2684/conda-envs/pytorch_tensorflow_latest/lib/python3.7/site-packages/numpy/core/_methods.py:217: RuntimeWarning: Degrees of freedom <= 0 for slice\n",
      "  keepdims=keepdims)\n",
      "/home/tt2684/conda-envs/pytorch_tensorflow_latest/lib/python3.7/site-packages/numpy/core/_methods.py:186: RuntimeWarning: invalid value encountered in true_divide\n",
      "  arrmean, rcount, out=arrmean, casting='unsafe', subok=False)\n",
      "/home/tt2684/conda-envs/pytorch_tensorflow_latest/lib/python3.7/site-packages/numpy/core/_methods.py:207: RuntimeWarning: invalid value encountered in true_divide\n",
      "  ret, rcount, out=ret, casting='unsafe', subok=False)\n",
      "/home/tt2684/conda-envs/pytorch_tensorflow_latest/lib/python3.7/site-packages/ipykernel_launcher.py:91: RuntimeWarning: Mean of empty slice.\n",
      "/home/tt2684/conda-envs/pytorch_tensorflow_latest/lib/python3.7/site-packages/ipykernel_launcher.py:93: RuntimeWarning: Mean of empty slice.\n",
      "/home/tt2684/conda-envs/pytorch_tensorflow_latest/lib/python3.7/site-packages/ipykernel_launcher.py:89: RuntimeWarning: Mean of empty slice.\n",
      "/home/tt2684/conda-envs/pytorch_tensorflow_latest/lib/python3.7/site-packages/ipykernel_launcher.py:90: RuntimeWarning: Mean of empty slice.\n",
      "/home/tt2684/conda-envs/pytorch_tensorflow_latest/lib/python3.7/site-packages/numpy/core/_methods.py:154: RuntimeWarning: invalid value encountered in true_divide\n",
      "  ret, rcount, out=ret, casting='unsafe', subok=False)\n",
      "/home/tt2684/conda-envs/pytorch_tensorflow_latest/lib/python3.7/site-packages/numpy/core/_methods.py:217: RuntimeWarning: Degrees of freedom <= 0 for slice\n",
      "  keepdims=keepdims)\n",
      "/home/tt2684/conda-envs/pytorch_tensorflow_latest/lib/python3.7/site-packages/numpy/core/_methods.py:186: RuntimeWarning: invalid value encountered in true_divide\n",
      "  arrmean, rcount, out=arrmean, casting='unsafe', subok=False)\n",
      "/home/tt2684/conda-envs/pytorch_tensorflow_latest/lib/python3.7/site-packages/numpy/core/_methods.py:207: RuntimeWarning: invalid value encountered in true_divide\n",
      "  ret, rcount, out=ret, casting='unsafe', subok=False)\n",
      "/home/tt2684/conda-envs/pytorch_tensorflow_latest/lib/python3.7/site-packages/ipykernel_launcher.py:91: RuntimeWarning: Mean of empty slice.\n",
      "/home/tt2684/conda-envs/pytorch_tensorflow_latest/lib/python3.7/site-packages/ipykernel_launcher.py:93: RuntimeWarning: Mean of empty slice.\n",
      "/home/tt2684/conda-envs/pytorch_tensorflow_latest/lib/python3.7/site-packages/ipykernel_launcher.py:89: RuntimeWarning: Mean of empty slice.\n",
      "/home/tt2684/conda-envs/pytorch_tensorflow_latest/lib/python3.7/site-packages/ipykernel_launcher.py:90: RuntimeWarning: Mean of empty slice.\n",
      "/home/tt2684/conda-envs/pytorch_tensorflow_latest/lib/python3.7/site-packages/numpy/core/_methods.py:154: RuntimeWarning: invalid value encountered in true_divide\n",
      "  ret, rcount, out=ret, casting='unsafe', subok=False)\n",
      "/home/tt2684/conda-envs/pytorch_tensorflow_latest/lib/python3.7/site-packages/numpy/core/_methods.py:217: RuntimeWarning: Degrees of freedom <= 0 for slice\n",
      "  keepdims=keepdims)\n",
      "/home/tt2684/conda-envs/pytorch_tensorflow_latest/lib/python3.7/site-packages/numpy/core/_methods.py:186: RuntimeWarning: invalid value encountered in true_divide\n",
      "  arrmean, rcount, out=arrmean, casting='unsafe', subok=False)\n",
      "/home/tt2684/conda-envs/pytorch_tensorflow_latest/lib/python3.7/site-packages/numpy/core/_methods.py:207: RuntimeWarning: invalid value encountered in true_divide\n",
      "  ret, rcount, out=ret, casting='unsafe', subok=False)\n",
      "/home/tt2684/conda-envs/pytorch_tensorflow_latest/lib/python3.7/site-packages/ipykernel_launcher.py:91: RuntimeWarning: Mean of empty slice.\n",
      "/home/tt2684/conda-envs/pytorch_tensorflow_latest/lib/python3.7/site-packages/ipykernel_launcher.py:93: RuntimeWarning: Mean of empty slice.\n"
     ]
    },
    {
     "name": "stdout",
     "output_type": "stream",
     "text": [
      "Corrd:  SLVanilla nan\n",
      "Corrd:  BP nan\n",
      "Corrd:  FA nan\n"
     ]
    },
    {
     "name": "stderr",
     "output_type": "stream",
     "text": [
      "/home/tt2684/conda-envs/pytorch_tensorflow_latest/lib/python3.7/site-packages/ipykernel_launcher.py:113: RuntimeWarning: Mean of empty slice.\n",
      "/home/tt2684/conda-envs/pytorch_tensorflow_latest/lib/python3.7/site-packages/numpy/core/_methods.py:154: RuntimeWarning: invalid value encountered in true_divide\n",
      "  ret, rcount, out=ret, casting='unsafe', subok=False)\n",
      "/home/tt2684/conda-envs/pytorch_tensorflow_latest/lib/python3.7/site-packages/ipykernel_launcher.py:114: RuntimeWarning: Mean of empty slice.\n",
      "/home/tt2684/conda-envs/pytorch_tensorflow_latest/lib/python3.7/site-packages/numpy/core/_methods.py:154: RuntimeWarning: invalid value encountered in true_divide\n",
      "  ret, rcount, out=ret, casting='unsafe', subok=False)\n",
      "/home/tt2684/conda-envs/pytorch_tensorflow_latest/lib/python3.7/site-packages/numpy/core/_methods.py:217: RuntimeWarning: Degrees of freedom <= 0 for slice\n",
      "  keepdims=keepdims)\n",
      "/home/tt2684/conda-envs/pytorch_tensorflow_latest/lib/python3.7/site-packages/numpy/core/_methods.py:186: RuntimeWarning: invalid value encountered in true_divide\n",
      "  arrmean, rcount, out=arrmean, casting='unsafe', subok=False)\n",
      "/home/tt2684/conda-envs/pytorch_tensorflow_latest/lib/python3.7/site-packages/numpy/core/_methods.py:207: RuntimeWarning: invalid value encountered in true_divide\n",
      "  ret, rcount, out=ret, casting='unsafe', subok=False)\n",
      "/home/tt2684/conda-envs/pytorch_tensorflow_latest/lib/python3.7/site-packages/ipykernel_launcher.py:115: RuntimeWarning: Mean of empty slice.\n",
      "/home/tt2684/conda-envs/pytorch_tensorflow_latest/lib/python3.7/site-packages/ipykernel_launcher.py:117: RuntimeWarning: Mean of empty slice.\n",
      "/home/tt2684/conda-envs/pytorch_tensorflow_latest/lib/python3.7/site-packages/ipykernel_launcher.py:113: RuntimeWarning: Mean of empty slice.\n",
      "/home/tt2684/conda-envs/pytorch_tensorflow_latest/lib/python3.7/site-packages/ipykernel_launcher.py:114: RuntimeWarning: Mean of empty slice.\n",
      "/home/tt2684/conda-envs/pytorch_tensorflow_latest/lib/python3.7/site-packages/numpy/core/_methods.py:154: RuntimeWarning: invalid value encountered in true_divide\n",
      "  ret, rcount, out=ret, casting='unsafe', subok=False)\n",
      "/home/tt2684/conda-envs/pytorch_tensorflow_latest/lib/python3.7/site-packages/numpy/core/_methods.py:217: RuntimeWarning: Degrees of freedom <= 0 for slice\n",
      "  keepdims=keepdims)\n",
      "/home/tt2684/conda-envs/pytorch_tensorflow_latest/lib/python3.7/site-packages/numpy/core/_methods.py:186: RuntimeWarning: invalid value encountered in true_divide\n",
      "  arrmean, rcount, out=arrmean, casting='unsafe', subok=False)\n",
      "/home/tt2684/conda-envs/pytorch_tensorflow_latest/lib/python3.7/site-packages/numpy/core/_methods.py:207: RuntimeWarning: invalid value encountered in true_divide\n",
      "  ret, rcount, out=ret, casting='unsafe', subok=False)\n",
      "/home/tt2684/conda-envs/pytorch_tensorflow_latest/lib/python3.7/site-packages/ipykernel_launcher.py:115: RuntimeWarning: Mean of empty slice.\n",
      "/home/tt2684/conda-envs/pytorch_tensorflow_latest/lib/python3.7/site-packages/ipykernel_launcher.py:117: RuntimeWarning: Mean of empty slice.\n",
      "/home/tt2684/conda-envs/pytorch_tensorflow_latest/lib/python3.7/site-packages/ipykernel_launcher.py:113: RuntimeWarning: Mean of empty slice.\n",
      "/home/tt2684/conda-envs/pytorch_tensorflow_latest/lib/python3.7/site-packages/ipykernel_launcher.py:114: RuntimeWarning: Mean of empty slice.\n",
      "/home/tt2684/conda-envs/pytorch_tensorflow_latest/lib/python3.7/site-packages/numpy/core/_methods.py:154: RuntimeWarning: invalid value encountered in true_divide\n",
      "  ret, rcount, out=ret, casting='unsafe', subok=False)\n",
      "/home/tt2684/conda-envs/pytorch_tensorflow_latest/lib/python3.7/site-packages/numpy/core/_methods.py:217: RuntimeWarning: Degrees of freedom <= 0 for slice\n",
      "  keepdims=keepdims)\n",
      "/home/tt2684/conda-envs/pytorch_tensorflow_latest/lib/python3.7/site-packages/numpy/core/_methods.py:186: RuntimeWarning: invalid value encountered in true_divide\n",
      "  arrmean, rcount, out=arrmean, casting='unsafe', subok=False)\n",
      "/home/tt2684/conda-envs/pytorch_tensorflow_latest/lib/python3.7/site-packages/numpy/core/_methods.py:207: RuntimeWarning: invalid value encountered in true_divide\n",
      "  ret, rcount, out=ret, casting='unsafe', subok=False)\n",
      "/home/tt2684/conda-envs/pytorch_tensorflow_latest/lib/python3.7/site-packages/ipykernel_launcher.py:115: RuntimeWarning: Mean of empty slice.\n",
      "/home/tt2684/conda-envs/pytorch_tensorflow_latest/lib/python3.7/site-packages/ipykernel_launcher.py:117: RuntimeWarning: Mean of empty slice.\n"
     ]
    },
    {
     "name": "stdout",
     "output_type": "stream",
     "text": [
      "Lossd:  SLVanilla nan\n",
      "Lossd:  BP nan\n",
      "Lossd:  FA nan\n"
     ]
    },
    {
     "data": {
      "image/png": "[encoded data removed]",
      "text/plain": [
       "<Figure size 864x576 with 1 Axes>"
      ]
     },
     "metadata": {
      "needs_background": "light"
     },
     "output_type": "display_data"
    },
    {
     "data": {
      "image/png": "[encoded data removed]",
      "text/plain": [
       "<Figure size 360x252 with 1 Axes>"
      ]
     },
     "metadata": {
      "needs_background": "light"
     },
     "output_type": "display_data"
    },
    {
     "data": {
      "image/png": "[encoded data removed]",
      "text/plain": [
       "<Figure size 360x252 with 1 Axes>"
      ]
     },
     "metadata": {
      "needs_background": "light"
     },
     "output_type": "display_data"
    },
    {
     "data": {
      "image/png": "[encoded data removed]",
      "text/plain": [
       "<Figure size 360x252 with 1 Axes>"
      ]
     },
     "metadata": {
      "needs_background": "light"
     },
     "output_type": "display_data"
    }
   ],
   "source": [
    "hashname =  'RMSpRMSpMNISTAsymResLNet10BNaffine'\n",
    "#'RMSpropRMSpropMNISTAsymResLNet10' #'RMSpropRMSpropMNISTFullyConn' ##'RMSpropRMSpropMNISTFullyConnE150'\n",
    "# 'RMSpRMSpMNISTAsymResLNet10BNaffine'\n",
    "methods = ['SLVanilla','BP', 'FA']\n",
    "colors = {'FA':'k', 'BP':'k', 'SLVanilla':'red'}\n",
    "linestyles = {'FA':'--', 'BP':'-', 'SLVanilla':'-'}\n",
    "if 'AsymResLNet' in hashname:\n",
    "    markers = {'FA':'o', 'BP':'o', 'SLVanilla':'o'}\n",
    "elif 'FullyConn' in hashname:\n",
    "    markers = {'FA':'s', 'BP':'s', 'SLVanilla':'s'}\n",
    "\n",
    "facecolors = {'FA':'none', 'BP':'k', 'SLVanilla':'red'}\n",
    "\n",
    "with open(path_prefix + '/Results/Symbio/runswithhash/%s.txt'%hashname) as f:\n",
    "    Lines = f.readlines() \n",
    "\n",
    "valid_runnames = []\n",
    "fig, ax = plt.subplots(1,1, figsize=(12,8))\n",
    "for l in Lines:\n",
    "    runname = l.strip('\\n')\n",
    "    \n",
    "    configs = yaml.safe_load(open(path_prefix + '/Results/Symbio/Symbio/%s/configs.yml'%runname, 'r'))\n",
    "    list_csv_paths = []\n",
    "    for method in methods:\n",
    "        p = path_prefix + '/Results/Symbio/Symbio/%s/training_results_%s.csv'%(runname, method)\n",
    "        if os.path.exists(p):\n",
    "            df = pd.read_csv(p)\n",
    "            if len(list(df['test_acc'])) == configs['epochs']:\n",
    "                list_csv_paths.append(p)\n",
    "    if len(list_csv_paths) == len(methods):\n",
    "        valid_runnames.append(runname)\n",
    "        configs = yaml.safe_load(open(path_prefix + '/Results/Symbio/Symbio/%s/configs.yml'%runname, 'r'))\n",
    "\n",
    "print('number of valid runs',len(valid_runnames))\n",
    "\n",
    "n_epochs = configs['epochs']\n",
    "arch =  configs['arche'][:-1]\n",
    "\n",
    "test_init = np.zeros((len(valid_runnames),n_epochs))\n",
    "test_acc_dict = {}\n",
    "test_corrd_dict = {}\n",
    "test_lossd_dict = {}\n",
    "for method in methods:\n",
    "    test_acc_dict[method] = copy.deepcopy(test_init)\n",
    "    test_corrd_dict[method] = copy.deepcopy(test_init)\n",
    "    test_lossd_dict[method] = copy.deepcopy(test_init)\n",
    "    \n",
    "for r, runname in enumerate(valid_runnames):\n",
    "    configs = yaml.safe_load(open(path_prefix + '/Results/Symbio/Symbio/%s/configs.yml'%runname, 'r'))\n",
    "    \n",
    "    for method in methods:\n",
    "        p = path_prefix + '/Results/Symbio/Symbio/%s/training_results_%s.csv'%(runname, method)\n",
    "        df = pd.read_csv(p)\n",
    "        label = method \n",
    "        pl = ax.plot(df['test_corrd'], label=label, color=colors[method], ls=linestyles[method])\n",
    "        test_acc_dict[method][r] = list(df['test_acc'])\n",
    "        test_corrd_dict[method][r] = list(df['test_corrd'])\n",
    "        test_lossd_dict[method][r] = list(df['test_lossd'])\n",
    "\n",
    "fig, ax = plt.subplots(1,1, figsize=(5,3.5))\n",
    "measure = test_acc_dict\n",
    "for method in methods:\n",
    "    ax.plot(range(n_epochs ), np.median(measure[method], 0), colors[method], label=method, ls=linestyles[method])\n",
    "    ax.fill_between(range(n_epochs ), np.median(measure[method], 0)-measure[method].std(0),\n",
    "                    np.median(measure[method], 0)+measure[method].std(0),\n",
    "                    alpha=0.1, color=colors[method], ls=linestyles[method])\n",
    "    print('Acc: ',method, measure[method].mean(0)[-1])\n",
    "    \n",
    "ax.legend()\n",
    "ax = plt.gca()\n",
    "ax.patch.set_visible(False)\n",
    "ax.spines['right'].set_visible(False)\n",
    "ax.spines['top'].set_visible(False)\n",
    "plt.tick_params(axis='y', direction='out', right=False)\n",
    "plt.tick_params(axis='x', direction='out', top=False)\n",
    "ax.set_xlabel('epochs')\n",
    "ax.set_ylabel('Test accuracy')\n",
    "# ax.set_ylim([95,99])\n",
    "\n",
    "ax.set_title('%s %s (%s)'%(configs['dataset'], arch, hashname))\n",
    "plt.tight_layout()\n",
    "\n",
    "fig.savefig(path_prefix + '/Results/Symbio/runswithhash/%s_test_acc_%s.png'%(hashname, arch), dpi=200)\n",
    "fig.savefig(path_prefix + '/Results/Symbio/runswithhash/%s_test_acc_%s.pdf'%(hashname, arch), dpi=200)\n",
    "\n",
    "fig, ax = plt.subplots(1,1, figsize=(5,3.5))\n",
    "measure = test_corrd_dict\n",
    "for method in methods:\n",
    "    ax.plot(range(n_epochs ), measure[method].mean(0), colors[method], label=method, ls=linestyles[method])\n",
    "    ax.fill_between(range(n_epochs ), measure[method].mean(0)-measure[method].std(0),\n",
    "                    measure[method].mean(0)+measure[method].std(0),\n",
    "                    alpha=0.1, color=colors[method], ls=linestyles[method])\n",
    "    print('Corrd: ', method, measure[method].mean(0)[-1])\n",
    "    \n",
    "ax.legend()\n",
    "ax = plt.gca()\n",
    "ax.patch.set_visible(False)\n",
    "ax.spines['right'].set_visible(False)\n",
    "ax.spines['top'].set_visible(False)\n",
    "plt.tick_params(axis='y',direction='out', right=False)\n",
    "plt.tick_params(axis='x',direction='out', top=False)\n",
    "ax.set_xlabel('epochs')\n",
    "ax.set_ylabel('Test reconstruction correlation')\n",
    "\n",
    "ax.set_title('%s %s (%s)'%(configs['dataset'], arch, hashname))\n",
    "plt.tight_layout()\n",
    "fig.savefig(path_prefix + '/Results/Symbio/runswithhash/%s_test_corrd_%s.png'%(hashname, arch), dpi=200)\n",
    "fig.savefig(path_prefix + '/Results/Symbio/runswithhash/%s_test_corrd_%s.pdf'%(hashname, arch), dpi=200)\n",
    "\n",
    "fig, ax = plt.subplots(1,1, figsize=(5,3.5))\n",
    "measure = test_lossd_dict\n",
    "for method in methods:\n",
    "    ax.plot(range(n_epochs ), measure[method].mean(0), colors[method], label=method,ls=linestyles[method])\n",
    "    ax.fill_between(range(n_epochs ), measure[method].mean(0)-measure[method].std(0),\n",
    "                    measure[method].mean(0)+measure[method].std(0),\n",
    "                    alpha=0.1, color=colors[method], ls=linestyles[method])\n",
    "    print('Lossd: ' ,method, measure[method].mean(0)[-1])\n",
    "    \n",
    "ax.legend()\n",
    "ax = plt.gca()\n",
    "ax.patch.set_visible(False)\n",
    "ax.spines['right'].set_visible(False)\n",
    "ax.spines['top'].set_visible(False)\n",
    "plt.tick_params(axis='y',direction='out', right=False)\n",
    "plt.tick_params(axis='x',direction='out', top=False)\n",
    "ax.set_xlabel('epochs')\n",
    "ax.set_ylabel('Test reconstruction loss')\n",
    "\n",
    "ax.set_title('%s %s (%s)'%(configs['dataset'], arch, hashname))\n",
    "plt.tight_layout()\n",
    "fig.savefig(path_prefix + '/Results/Symbio/runswithhash/%s_test_loss_%s.png'%(hashname, arch), dpi=200)\n",
    "fig.savefig(path_prefix + '/Results/Symbio/runswithhash/%s_test_loss_%s.pdf'%(hashname, arch), dpi=200)"
   ]
  },
  {
   "cell_type": "code",
   "execution_count": null,
   "metadata": {},
   "outputs": [],
   "source": []
  }
 ],
 "metadata": {
  "kernelspec": {
   "display_name": "Python 3 (ipykernel)",
   "language": "python",
   "name": "python3"
  },
  "language_info": {
   "codemirror_mode": {
    "name": "ipython",
    "version": 3
   },
   "file_extension": ".py",
   "mimetype": "text/x-python",
   "name": "python",
   "nbconvert_exporter": "python",
   "pygments_lexer": "ipython3",
   "version": "3.7.11"
  },
  "varInspector": {
   "cols": {
    "lenName": 16,
    "lenType": 16,
    "lenVar": 40
   },
   "kernels_config": {
    "python": {
     "delete_cmd_postfix": "",
     "delete_cmd_prefix": "del ",
     "library": "var_list.py",
     "varRefreshCmd": "print(var_dic_list())"
    },
    "r": {
     "delete_cmd_postfix": ") ",
     "delete_cmd_prefix": "rm(",
     "library": "var_list.r",
     "varRefreshCmd": "cat(var_dic_list()) "
    }
   },
   "types_to_exclude": [
    "module",
    "function",
    "builtin_function_or_method",
    "instance",
    "_Feature"
   ],
   "window_display": false
  }
 },
 "nbformat": 4,
 "nbformat_minor": 4
}
