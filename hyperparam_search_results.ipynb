{
 "cells": [
  {
   "cell_type": "code",
   "execution_count": 2,
   "metadata": {},
   "outputs": [],
   "source": [
    "import json"
   ]
  },
  {
   "cell_type": "code",
   "execution_count": null,
   "metadata": {},
   "outputs": [],
   "source": []
  },
  {
   "cell_type": "code",
   "execution_count": 29,
   "metadata": {},
   "outputs": [],
   "source": [
    "databasedir='/home/tt2684/Research/Results/database/Symbio/Easymresnet18DasymresnetT18/CIFAR10/'\n",
    "method='SLVanilla'"
   ]
  },
  {
   "cell_type": "code",
   "execution_count": 34,
   "metadata": {},
   "outputs": [],
   "source": [
    "runnames=['May09-08-33_CIFAR10_adf3aac7c7_878', 'May09-08-33_CIFAR10_adf3aac7c7_835', 'May09-08-33_CIFAR10_adf3aac7c7_85', 'May09-08-34_CIFAR10_adf3aac7c7_372']\n",
    "  \n",
    "runnames.extend(['May09-13-39_CIFAR10_adf3aac7c7_94', 'May09-13-40_CIFAR10_adf3aac7c7_866', 'May09-13-40_CIFAR10_adf3aac7c7_1020'])\n",
    "runnames.extend(['May10-09-29_CIFAR10_adf3aac7c7_907', 'May10-09-29_CIFAR10_adf3aac7c7_844'])\n",
    "runnames.extend(['May10-16-05_CIFAR10_adf3aac7c7_500', 'May10-16-05_CIFAR10_adf3aac7c7_318'])\n",
    "runnames.extend(['May11-11-50_CIFAR10_adf3aac7c7_138', 'May11-11-50_CIFAR10_adf3aac7c7_125', 'May11-11-50_CIFAR10_adf3aac7c7_222', 'May11-11-50_CIFAR10_adf3aac7c7_804'\n",
    "])\n",
    "# runnames.extend(['May11-19-15_CIFAR10_adf3aac7c7_412' ,'May11-19-15_CIFAR10_adf3aac7c7_149'])\n",
    "\n",
    "runnames.extend(['May11-22-05_CIFAR10_adf3aac7c7_524' ,'May11-22-05_CIFAR10_adf3aac7c7_456' ,'May11-22-06_CIFAR10_adf3aac7c7_685', 'May11-22-06_CIFAR10_adf3aac7c7_731'])\n",
    "runnames.extend(['May12-08-19_CIFAR10_adf3aac7c7_89' ,'May12-08-19_CIFAR10_adf3aac7c7_676', 'May12-08-19_CIFAR10_adf3aac7c7_16', 'May12-08-19_CIFAR10_adf3aac7c7_160'])\n"
   ]
  },
  {
   "cell_type": "code",
   "execution_count": 35,
   "metadata": {},
   "outputs": [
    {
     "data": {
      "text/plain": [
       "['May09-08-33_CIFAR10_adf3aac7c7_878',\n",
       " 'May09-08-33_CIFAR10_adf3aac7c7_835',\n",
       " 'May09-08-33_CIFAR10_adf3aac7c7_85',\n",
       " 'May09-08-34_CIFAR10_adf3aac7c7_372',\n",
       " 'May09-13-39_CIFAR10_adf3aac7c7_94',\n",
       " 'May09-13-40_CIFAR10_adf3aac7c7_866',\n",
       " 'May09-13-40_CIFAR10_adf3aac7c7_1020',\n",
       " 'May10-09-29_CIFAR10_adf3aac7c7_907',\n",
       " 'May10-09-29_CIFAR10_adf3aac7c7_844',\n",
       " 'May10-16-05_CIFAR10_adf3aac7c7_500',\n",
       " 'May10-16-05_CIFAR10_adf3aac7c7_318',\n",
       " 'May11-11-50_CIFAR10_adf3aac7c7_138',\n",
       " 'May11-11-50_CIFAR10_adf3aac7c7_125',\n",
       " 'May11-11-50_CIFAR10_adf3aac7c7_222',\n",
       " 'May11-11-50_CIFAR10_adf3aac7c7_804',\n",
       " 'May11-22-05_CIFAR10_adf3aac7c7_524',\n",
       " 'May11-22-05_CIFAR10_adf3aac7c7_456',\n",
       " 'May11-22-06_CIFAR10_adf3aac7c7_685',\n",
       " 'May11-22-06_CIFAR10_adf3aac7c7_731',\n",
       " 'May12-08-19_CIFAR10_adf3aac7c7_89',\n",
       " 'May12-08-19_CIFAR10_adf3aac7c7_676',\n",
       " 'May12-08-19_CIFAR10_adf3aac7c7_16',\n",
       " 'May12-08-19_CIFAR10_adf3aac7c7_160']"
      ]
     },
     "execution_count": 35,
     "metadata": {},
     "output_type": "execute_result"
    }
   ],
   "source": [
    "runnames"
   ]
  },
  {
   "cell_type": "code",
   "execution_count": 36,
   "metadata": {},
   "outputs": [],
   "source": [
    "Test_acce = {}\n",
    "Train_acce = {}\n",
    "Test_lossd = {}\n",
    "Train_lossd = {}\n",
    "Test_lossl = {}\n",
    "Train_lossl = {}\n",
    "Test_corrd = {}\n",
    "Train_corrd = {}\n",
    "Learning_rate = {}\n",
    "\n",
    "Align_corr_first = {}\n",
    "Align_corr_last = {}\n",
    "\n",
    "Align_ratios_first = {}\n",
    "Align_ratios_last = {}\n",
    "\n",
    "Forward_norm_first = {}\n",
    "Forward_norm_last = {}\n",
    "\n",
    "for runname in runnames:\n",
    "    with open('%s%s_%s.json'%(databasedir,runname, method), 'r') as fp:\n",
    "            results = json.load(fp)        \n",
    "            Test_acce.update({runname:results['Test_acce']})\n",
    "            Train_acce.update({runname:results['Train_acce']})\n",
    "\n",
    "            Test_lossd.update({runname:results['Test_lossd']})\n",
    "            Train_lossd.update({runname:results['Train_lossd']})\n",
    "\n",
    "\n",
    "            Test_lossl.update({runname:results['Test_lossl']})\n",
    "            Train_lossl.update({runname:results['Train_lossl']})\n",
    "\n",
    "            Test_corrd.update({runname:results['Test_corrd']})\n",
    "            Train_corrd.update({runname:results['Train_corrd']})\n",
    "\n",
    "\n",
    "            Learning_rate.update({runname:results['lrF']})\n",
    "\n",
    "            Align_corr_first.update({runname:results['Alignments_corrs_first_layer']})\n",
    "            Align_corr_last.update({runname:results['Alignments_corrs_last_layer']})\n",
    "\n",
    "            Align_ratios_first.update({runname:results['Alignments_ratios_first_layer']})\n",
    "            Align_ratios_last.update({runname:results['Alignments_ratios_last_layer']})\n",
    "\n",
    "            Forward_norm_first.update({runname:results['Forward_norm_first_layer']})\n",
    "            Forward_norm_last.update({runname:results['Forward_norm_last_layer']})\n"
   ]
  },
  {
   "cell_type": "code",
   "execution_count": 37,
   "metadata": {},
   "outputs": [
    {
     "name": "stdout",
     "output_type": "stream",
     "text": [
      "21.725     May09-08-33_CIFAR10_adf3aac7c7_878\n",
      "22.216     May09-08-33_CIFAR10_adf3aac7c7_835\n",
      "27.604     May09-08-33_CIFAR10_adf3aac7c7_85\n",
      "20.102     May09-08-34_CIFAR10_adf3aac7c7_372\n",
      "26.973     May09-13-39_CIFAR10_adf3aac7c7_94\n",
      "43.189     May09-13-40_CIFAR10_adf3aac7c7_866\n",
      "10.006     May09-13-40_CIFAR10_adf3aac7c7_1020\n",
      "10.006     May10-09-29_CIFAR10_adf3aac7c7_907\n",
      "10.016     May10-09-29_CIFAR10_adf3aac7c7_844\n",
      "10.006     May10-16-05_CIFAR10_adf3aac7c7_500\n",
      "10.006     May10-16-05_CIFAR10_adf3aac7c7_318\n",
      "51.442     May11-11-50_CIFAR10_adf3aac7c7_138\n",
      "44.401     May11-11-50_CIFAR10_adf3aac7c7_125\n",
      "49.83     May11-11-50_CIFAR10_adf3aac7c7_222\n",
      "51.803     May11-11-50_CIFAR10_adf3aac7c7_804\n",
      "43.079     May11-22-05_CIFAR10_adf3aac7c7_524\n",
      "49.159     May11-22-05_CIFAR10_adf3aac7c7_456\n",
      "47.286     May11-22-06_CIFAR10_adf3aac7c7_685\n",
      "46.414     May11-22-06_CIFAR10_adf3aac7c7_731\n",
      "40.835     May12-08-19_CIFAR10_adf3aac7c7_89\n",
      "46.434     May12-08-19_CIFAR10_adf3aac7c7_676\n",
      "44.942     May12-08-19_CIFAR10_adf3aac7c7_16\n",
      "30.559     May12-08-19_CIFAR10_adf3aac7c7_160\n"
     ]
    }
   ],
   "source": [
    "for k,item in Test_acce.items():\n",
    "    print(item[-1],'   ',k)"
   ]
  },
  {
   "cell_type": "code",
   "execution_count": null,
   "metadata": {},
   "outputs": [],
   "source": []
  },
  {
   "cell_type": "code",
   "execution_count": null,
   "metadata": {},
   "outputs": [],
   "source": []
  }
 ],
 "metadata": {
  "kernelspec": {
   "display_name": "Python 3",
   "language": "python",
   "name": "python3"
  },
  "language_info": {
   "codemirror_mode": {
    "name": "ipython",
    "version": 3
   },
   "file_extension": ".py",
   "mimetype": "text/x-python",
   "name": "python",
   "nbconvert_exporter": "python",
   "pygments_lexer": "ipython3",
   "version": "3.7.0"
  }
 },
 "nbformat": 4,
 "nbformat_minor": 4
}
