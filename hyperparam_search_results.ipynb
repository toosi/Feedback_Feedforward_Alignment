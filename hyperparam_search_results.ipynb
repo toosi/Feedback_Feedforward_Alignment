{
 "cells": [
  {
   "cell_type": "code",
   "execution_count": 2,
   "metadata": {},
   "outputs": [],
   "source": [
    "import json"
   ]
  },
  {
   "cell_type": "code",
   "execution_count": null,
   "metadata": {},
   "outputs": [],
   "source": []
  },
  {
   "cell_type": "code",
   "execution_count": 3,
   "metadata": {},
   "outputs": [],
   "source": [
    "databasedir='/home/tt2684/Research/Results/database/Symbio/Easymresnet18DasymresnetT18/CIFAR10/'\n",
    "method='SLVanilla'"
   ]
  },
  {
   "cell_type": "code",
   "execution_count": 4,
   "metadata": {},
   "outputs": [],
   "source": [
    "runnames=['May09-08-33_CIFAR10_adf3aac7c7_878', 'May09-08-33_CIFAR10_adf3aac7c7_835', 'May09-08-33_CIFAR10_adf3aac7c7_85', 'May09-08-34_CIFAR10_adf3aac7c7_372']\n",
    "  \n",
    "runnames.extend(['May09-13-39_CIFAR10_adf3aac7c7_94', 'May09-13-40_CIFAR10_adf3aac7c7_866', 'May09-13-40_CIFAR10_adf3aac7c7_1020'])\n",
    "runnames.extend(['May10-09-29_CIFAR10_adf3aac7c7_907', 'May10-09-29_CIFAR10_adf3aac7c7_844'])\n",
    "runnames.extend(['May10-16-05_CIFAR10_adf3aac7c7_500', 'May10-16-05_CIFAR10_adf3aac7c7_318'])\n",
    "runnames.extend(['May11-11-50_CIFAR10_adf3aac7c7_138', 'May11-11-50_CIFAR10_adf3aac7c7_125', 'May11-11-50_CIFAR10_adf3aac7c7_222', 'May11-11-50_CIFAR10_adf3aac7c7_804'\n",
    "])\n",
    "# runnames.extend(['May11-19-15_CIFAR10_adf3aac7c7_412' ,'May11-19-15_CIFAR10_adf3aac7c7_149'])\n",
    "\n",
    "runnames.extend(['May11-22-05_CIFAR10_adf3aac7c7_524' ,'May11-22-05_CIFAR10_adf3aac7c7_456' ,'May11-22-06_CIFAR10_adf3aac7c7_685', 'May11-22-06_CIFAR10_adf3aac7c7_731'])\n",
    "runnames.extend(['May12-08-19_CIFAR10_adf3aac7c7_89' ,'May12-08-19_CIFAR10_adf3aac7c7_676', 'May12-08-19_CIFAR10_adf3aac7c7_16', 'May12-08-19_CIFAR10_adf3aac7c7_160'])\n",
    "#the following changed the oreder of normalization\n",
    "runnames.extend(['May13-08-23_CIFAR10_367d0e639c_837', 'May13-08-24_CIFAR10_367d0e639c_157' ,'May13-08-24_CIFAR10_367d0e639c_438' ,'May13-08-24_CIFAR10_367d0e639c_898'])\n",
    "#add normalizations for linear as well \n",
    "runnames.extend(['May15-11-23_CIFAR10_367d0e639c_623'])\n",
    "runnames.extend(['May15-18-17_CIFAR10_367d0e639c_588'])\n",
    "runnames.extend(['May16-09-00_CIFAR10_367d0e639c_19'])\n",
    "runnames.extend(['May16-12-59_CIFAR10_367d0e639c_526'])\n",
    "runnames.extend(['May17-07-26_CIFAR10_367d0e639c_180'])\n",
    "runnames.extend(['May17-14-39_CIFAR10_367d0e639c_577'])"
   ]
  },
  {
   "cell_type": "code",
   "execution_count": 5,
   "metadata": {},
   "outputs": [
    {
     "data": {
      "text/plain": [
       "['May09-08-33_CIFAR10_adf3aac7c7_878',\n",
       " 'May09-08-33_CIFAR10_adf3aac7c7_835',\n",
       " 'May09-08-33_CIFAR10_adf3aac7c7_85',\n",
       " 'May09-08-34_CIFAR10_adf3aac7c7_372',\n",
       " 'May09-13-39_CIFAR10_adf3aac7c7_94',\n",
       " 'May09-13-40_CIFAR10_adf3aac7c7_866',\n",
       " 'May09-13-40_CIFAR10_adf3aac7c7_1020',\n",
       " 'May10-09-29_CIFAR10_adf3aac7c7_907',\n",
       " 'May10-09-29_CIFAR10_adf3aac7c7_844',\n",
       " 'May10-16-05_CIFAR10_adf3aac7c7_500',\n",
       " 'May10-16-05_CIFAR10_adf3aac7c7_318',\n",
       " 'May11-11-50_CIFAR10_adf3aac7c7_138',\n",
       " 'May11-11-50_CIFAR10_adf3aac7c7_125',\n",
       " 'May11-11-50_CIFAR10_adf3aac7c7_222',\n",
       " 'May11-11-50_CIFAR10_adf3aac7c7_804',\n",
       " 'May11-22-05_CIFAR10_adf3aac7c7_524',\n",
       " 'May11-22-05_CIFAR10_adf3aac7c7_456',\n",
       " 'May11-22-06_CIFAR10_adf3aac7c7_685',\n",
       " 'May11-22-06_CIFAR10_adf3aac7c7_731',\n",
       " 'May12-08-19_CIFAR10_adf3aac7c7_89',\n",
       " 'May12-08-19_CIFAR10_adf3aac7c7_676',\n",
       " 'May12-08-19_CIFAR10_adf3aac7c7_16',\n",
       " 'May12-08-19_CIFAR10_adf3aac7c7_160',\n",
       " 'May13-08-23_CIFAR10_367d0e639c_837',\n",
       " 'May13-08-24_CIFAR10_367d0e639c_157',\n",
       " 'May13-08-24_CIFAR10_367d0e639c_438',\n",
       " 'May13-08-24_CIFAR10_367d0e639c_898',\n",
       " 'May15-11-23_CIFAR10_367d0e639c_623',\n",
       " 'May15-18-17_CIFAR10_367d0e639c_588',\n",
       " 'May16-09-00_CIFAR10_367d0e639c_19',\n",
       " 'May16-12-59_CIFAR10_367d0e639c_526',\n",
       " 'May17-07-26_CIFAR10_367d0e639c_180',\n",
       " 'May17-14-39_CIFAR10_367d0e639c_577']"
      ]
     },
     "execution_count": 5,
     "metadata": {},
     "output_type": "execute_result"
    }
   ],
   "source": [
    "runnames"
   ]
  },
  {
   "cell_type": "code",
   "execution_count": 6,
   "metadata": {},
   "outputs": [],
   "source": [
    "Test_acce = {}\n",
    "Train_acce = {}\n",
    "Test_lossd = {}\n",
    "Train_lossd = {}\n",
    "Test_lossl = {}\n",
    "Train_lossl = {}\n",
    "Test_corrd = {}\n",
    "Train_corrd = {}\n",
    "Learning_rate = {}\n",
    "\n",
    "Align_corr_first = {}\n",
    "Align_corr_last = {}\n",
    "\n",
    "Align_ratios_first = {}\n",
    "Align_ratios_last = {}\n",
    "\n",
    "Forward_norm_first = {}\n",
    "Forward_norm_last = {}\n",
    "\n",
    "for runname in runnames:\n",
    "    with open('%s%s_%s.json'%(databasedir,runname, method), 'r') as fp:\n",
    "            results = json.load(fp)        \n",
    "            Test_acce.update({runname:results['Test_acce']})\n",
    "            Train_acce.update({runname:results['Train_acce']})\n",
    "\n",
    "            Test_lossd.update({runname:results['Test_lossd']})\n",
    "            Train_lossd.update({runname:results['Train_lossd']})\n",
    "\n",
    "\n",
    "            Test_lossl.update({runname:results['Test_lossl']})\n",
    "            Train_lossl.update({runname:results['Train_lossl']})\n",
    "\n",
    "            Test_corrd.update({runname:results['Test_corrd']})\n",
    "            Train_corrd.update({runname:results['Train_corrd']})\n",
    "\n",
    "\n",
    "            Learning_rate.update({runname:results['lrF']})\n",
    "\n",
    "            Align_corr_first.update({runname:results['Alignments_corrs_first_layer']})\n",
    "            Align_corr_last.update({runname:results['Alignments_corrs_last_layer']})\n",
    "\n",
    "            Align_ratios_first.update({runname:results['Alignments_ratios_first_layer']})\n",
    "            Align_ratios_last.update({runname:results['Alignments_ratios_last_layer']})\n",
    "\n",
    "            Forward_norm_first.update({runname:results['Forward_norm_first_layer']})\n",
    "            Forward_norm_last.update({runname:results['Forward_norm_last_layer']})\n"
   ]
  },
  {
   "cell_type": "code",
   "execution_count": 7,
   "metadata": {},
   "outputs": [
    {
     "name": "stdout",
     "output_type": "stream",
     "text": [
      "accuracy     runname                            epoch\n",
      "21.725     0.261       May09-08-33_CIFAR10_adf3aac7c7_878     500    \n",
      "22.216     0.031       May09-08-33_CIFAR10_adf3aac7c7_835     500    \n",
      "27.604     0.089       May09-08-33_CIFAR10_adf3aac7c7_85     500    \n",
      "20.102     0.167       May09-08-34_CIFAR10_adf3aac7c7_372     500    \n",
      "26.973     0.385       May09-13-39_CIFAR10_adf3aac7c7_94     500    \n",
      "43.189     0.684       May09-13-40_CIFAR10_adf3aac7c7_866     500    \n",
      "10.006     nan       May09-13-40_CIFAR10_adf3aac7c7_1020     500    \n",
      "10.006     nan       May10-09-29_CIFAR10_adf3aac7c7_907     250    \n",
      "10.016     -0.007       May10-09-29_CIFAR10_adf3aac7c7_844     250    \n",
      "10.006     nan       May10-16-05_CIFAR10_adf3aac7c7_500     250    \n",
      "10.006     nan       May10-16-05_CIFAR10_adf3aac7c7_318     250    \n",
      "51.442     0.698       May11-11-50_CIFAR10_adf3aac7c7_138     250    \n",
      "44.401     0.697       May11-11-50_CIFAR10_adf3aac7c7_125     250    \n",
      "49.83     0.641       May11-11-50_CIFAR10_adf3aac7c7_222     250    \n",
      "51.803     0.625       May11-11-50_CIFAR10_adf3aac7c7_804     250    \n",
      "43.079     0.445       May11-22-05_CIFAR10_adf3aac7c7_524     250    \n",
      "49.159     0.625       May11-22-05_CIFAR10_adf3aac7c7_456     250    \n",
      "47.286     0.661       May11-22-06_CIFAR10_adf3aac7c7_685     250    \n",
      "46.414     0.556       May11-22-06_CIFAR10_adf3aac7c7_731     250    \n",
      "47.736     0.501       May12-08-19_CIFAR10_adf3aac7c7_89     500    \n",
      "49.449     0.657       May12-08-19_CIFAR10_adf3aac7c7_676     500    \n",
      "45.142     0.691       May12-08-19_CIFAR10_adf3aac7c7_16     500    \n",
      "45.112     0.558       May12-08-19_CIFAR10_adf3aac7c7_160     500    \n",
      "59.545     0.719       May13-08-23_CIFAR10_367d0e639c_837     500    \n",
      "47.476     0.562       May13-08-24_CIFAR10_367d0e639c_157     292    \n",
      "50.911     0.531       May13-08-24_CIFAR10_367d0e639c_438     340    \n",
      "44.361     0.617       May13-08-24_CIFAR10_367d0e639c_898     437    \n",
      "44.641     0.478       May15-11-23_CIFAR10_367d0e639c_623     201    \n",
      "49.489     0.709       May15-18-17_CIFAR10_367d0e639c_588     500    \n",
      "45.813     0.424       May16-09-00_CIFAR10_367d0e639c_19     500    \n",
      "45.523     0.684       May16-12-59_CIFAR10_367d0e639c_526     500    \n",
      "44.03     0.604       May17-07-26_CIFAR10_367d0e639c_180     219    \n",
      "49.479     0.426       May17-14-39_CIFAR10_367d0e639c_577     171    \n"
     ]
    }
   ],
   "source": [
    "print('accuracy','   ','runname''                           ','epoch')\n",
    "for k,item in Test_acce.items():\n",
    "    \n",
    "    print(item[-1],'   ',Test_corrd[k][-1], '     ', k, '   ', len(item), '   ')"
   ]
  },
  {
   "cell_type": "code",
   "execution_count": 9,
   "metadata": {},
   "outputs": [],
   "source": []
  },
  {
   "cell_type": "code",
   "execution_count": 11,
   "metadata": {},
   "outputs": [],
   "source": [
    "m = WideResNet(depth=22, num_classes=10)"
   ]
  },
  {
   "cell_type": "code",
   "execution_count": null,
   "metadata": {},
   "outputs": [],
   "source": []
  }
 ],
 "metadata": {
  "kernelspec": {
   "display_name": "Python 3",
   "language": "python",
   "name": "python3"
  },
  "language_info": {
   "codemirror_mode": {
    "name": "ipython",
    "version": 3
   },
   "file_extension": ".py",
   "mimetype": "text/x-python",
   "name": "python",
   "nbconvert_exporter": "python",
   "pygments_lexer": "ipython3",
   "version": "3.7.0"
  }
 },
 "nbformat": 4,
 "nbformat_minor": 4
}
